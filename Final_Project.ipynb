{
  "nbformat": 4,
  "nbformat_minor": 0,
  "metadata": {
    "colab": {
      "name": "Final Project.ipynb",
      "provenance": [],
      "collapsed_sections": []
    },
    "kernelspec": {
      "name": "python3",
      "display_name": "Python 3"
    }
  },
  "cells": [
    {
      "cell_type": "markdown",
      "metadata": {
        "id": "ynnWnlNwMr-6"
      },
      "source": [
        "# Final Project\n",
        "## Topic"
      ]
    },
    {
      "cell_type": "markdown",
      "metadata": {
        "id": "3lb8CYy6xxLg"
      },
      "source": [
        "In today’s world, we strive to create communities and institutions that allow us to feel comfortable and hope-fully happy. We explore the contributing factors thatdetermine if women enjoy more or less equality inthe countries with the happiest and unhappiest people.  This work aggregates data from economic, social, and cultural perspectives to perform this analysis. Ultimately, our goal is to examine existing happiness metrics based on life evaluation and see how they correspond to the equality and well-being of women indifferent countries."
      ]
    },
    {
      "cell_type": "markdown",
      "metadata": {
        "id": "Jc5FsYxLjhI5"
      },
      "source": [
        "## Imports"
      ]
    },
    {
      "cell_type": "code",
      "metadata": {
        "id": "57-GNwgU4W-s",
        "colab": {
          "base_uri": "https://localhost:8080/"
        },
        "outputId": "3a6fe60c-bed9-4996-90b4-c05b60d39992"
      },
      "source": [
        "!pip install pycountry\n",
        "!pip install pygal_maps_world\n",
        "!pip install cairosvg"
      ],
      "execution_count": 1,
      "outputs": [
        {
          "output_type": "stream",
          "text": [
            "Requirement already satisfied: pycountry in /usr/local/lib/python3.7/dist-packages (20.7.3)\n",
            "Requirement already satisfied: pygal_maps_world in /usr/local/lib/python3.7/dist-packages (1.0.2)\n",
            "Requirement already satisfied: pygal>=1.9.9 in /usr/local/lib/python3.7/dist-packages (from pygal_maps_world) (2.4.0)\n",
            "Requirement already satisfied: cairosvg in /usr/local/lib/python3.7/dist-packages (2.5.2)\n",
            "Requirement already satisfied: cairocffi in /usr/local/lib/python3.7/dist-packages (from cairosvg) (1.2.0)\n",
            "Requirement already satisfied: pillow in /usr/local/lib/python3.7/dist-packages (from cairosvg) (7.1.2)\n",
            "Requirement already satisfied: cssselect2 in /usr/local/lib/python3.7/dist-packages (from cairosvg) (0.4.1)\n",
            "Requirement already satisfied: defusedxml in /usr/local/lib/python3.7/dist-packages (from cairosvg) (0.7.1)\n",
            "Requirement already satisfied: tinycss2 in /usr/local/lib/python3.7/dist-packages (from cairosvg) (1.1.0)\n",
            "Requirement already satisfied: cffi>=1.1.0 in /usr/local/lib/python3.7/dist-packages (from cairocffi->cairosvg) (1.14.5)\n",
            "Requirement already satisfied: webencodings in /usr/local/lib/python3.7/dist-packages (from cssselect2->cairosvg) (0.5.1)\n",
            "Requirement already satisfied: pycparser in /usr/local/lib/python3.7/dist-packages (from cffi>=1.1.0->cairocffi->cairosvg) (2.20)\n"
          ],
          "name": "stdout"
        }
      ]
    },
    {
      "cell_type": "code",
      "metadata": {
        "id": "-YpVy4NDjnsW"
      },
      "source": [
        "import pandas as pd\n",
        "import numpy as np\n",
        "import scipy.stats as stats\n",
        "\n",
        "import seaborn as sns\n",
        "import matplotlib\n",
        "from matplotlib import pyplot as plt\n",
        "from matplotlib import cm\n",
        "\n",
        "import pycountry\n",
        "\n",
        "from PIL import Image "
      ],
      "execution_count": 2,
      "outputs": []
    },
    {
      "cell_type": "markdown",
      "metadata": {
        "id": "3bes8WjIW6AP"
      },
      "source": [
        "# Datasets"
      ]
    },
    {
      "cell_type": "code",
      "metadata": {
        "id": "ehoekQMdRPih",
        "colab": {
          "base_uri": "https://localhost:8080/"
        },
        "outputId": "223abcbc-e202-4f3c-a049-053487f27b11"
      },
      "source": [
        "from google.colab import drive\n",
        "drive.mount('/content/drive')"
      ],
      "execution_count": 3,
      "outputs": [
        {
          "output_type": "stream",
          "text": [
            "Drive already mounted at /content/drive; to attempt to forcibly remount, call drive.mount(\"/content/drive\", force_remount=True).\n"
          ],
          "name": "stdout"
        }
      ]
    },
    {
      "cell_type": "code",
      "metadata": {
        "colab": {
          "base_uri": "https://localhost:8080/"
        },
        "id": "SMH4VDv546iq",
        "outputId": "e800a9cd-d2b5-4ead-f018-4ad57e16b76e"
      },
      "source": [
        "!ls drive/MyDrive/Final\\ Project"
      ],
      "execution_count": 4,
      "outputs": [
        {
          "output_type": "stream",
          "text": [
            " 2015.csv\n",
            " 2016.csv\n",
            " 2017.csv\n",
            " 2018.csv\n",
            " 2019.csv\n",
            " 2020.csv\n",
            " annual_coal_consumption_by_country_1980_2009_2.csv\n",
            " best_countries_for_women.csv\n",
            " best_countries_for_women_us_news.csv\n",
            " best_countries_for_women_us_news.xlsx\n",
            " data3.csv\n",
            "'Final Project.ipynb'\n",
            "'Gallup 2017 Global Emotions report.pdf'\n",
            " unodc_crime_statistics_2014.xlsx\n",
            " What_Happiness_Today_Tells_Us_About_The_World_Tomorrow_Report.pdf\n",
            " whr_aggregated.csv\n",
            " WHR_women_2020.csv\n",
            " WHR_women_2020.xlsx\n",
            " World_Bank_Gender_Stats.xlsx\n",
            " World_Bank_Governance.xls\n",
            " World_Bank_Jobs.xlsx\n",
            " World_Bank_Migration.xls\n",
            " World_Bank_Nutrition_Population.xls\n",
            " world_development_report_2013_job_info.xls\n"
          ],
          "name": "stdout"
        }
      ]
    },
    {
      "cell_type": "code",
      "metadata": {
        "id": "LbUtNKtTRQFq",
        "colab": {
          "base_uri": "https://localhost:8080/",
          "height": 306
        },
        "outputId": "1ff0f7a2-3cea-4d81-ead9-90247ad0dc6b"
      },
      "source": [
        "data_dir = 'drive/MyDrive/Final Project/'\n",
        "\n",
        "whr2015 = pd.read_csv(data_dir + \"2015.csv\")\n",
        "whr2016 = pd.read_csv(data_dir + \"2016.csv\")\n",
        "whr2017 = pd.read_csv(data_dir + \"2017.csv\")\n",
        "whr2018 = pd.read_csv(data_dir + \"2018.csv\")\n",
        "whr2019 = pd.read_csv(data_dir + \"2019.csv\")\n",
        "whr2020 = pd.read_csv(data_dir + \"2020.csv\")\n",
        "\n",
        "whr2015.head() "
      ],
      "execution_count": 5,
      "outputs": [
        {
          "output_type": "execute_result",
          "data": {
            "text/html": [
              "<div>\n",
              "<style scoped>\n",
              "    .dataframe tbody tr th:only-of-type {\n",
              "        vertical-align: middle;\n",
              "    }\n",
              "\n",
              "    .dataframe tbody tr th {\n",
              "        vertical-align: top;\n",
              "    }\n",
              "\n",
              "    .dataframe thead th {\n",
              "        text-align: right;\n",
              "    }\n",
              "</style>\n",
              "<table border=\"1\" class=\"dataframe\">\n",
              "  <thead>\n",
              "    <tr style=\"text-align: right;\">\n",
              "      <th></th>\n",
              "      <th>Country</th>\n",
              "      <th>Region</th>\n",
              "      <th>Happiness Rank</th>\n",
              "      <th>Happiness Score</th>\n",
              "      <th>Standard Error</th>\n",
              "      <th>Economy (GDP per Capita)</th>\n",
              "      <th>Family</th>\n",
              "      <th>Health (Life Expectancy)</th>\n",
              "      <th>Freedom</th>\n",
              "      <th>Trust (Government Corruption)</th>\n",
              "      <th>Generosity</th>\n",
              "      <th>Dystopia Residual</th>\n",
              "    </tr>\n",
              "  </thead>\n",
              "  <tbody>\n",
              "    <tr>\n",
              "      <th>0</th>\n",
              "      <td>Switzerland</td>\n",
              "      <td>Western Europe</td>\n",
              "      <td>1</td>\n",
              "      <td>7.587</td>\n",
              "      <td>0.03411</td>\n",
              "      <td>1.39651</td>\n",
              "      <td>1.34951</td>\n",
              "      <td>0.94143</td>\n",
              "      <td>0.66557</td>\n",
              "      <td>0.41978</td>\n",
              "      <td>0.29678</td>\n",
              "      <td>2.51738</td>\n",
              "    </tr>\n",
              "    <tr>\n",
              "      <th>1</th>\n",
              "      <td>Iceland</td>\n",
              "      <td>Western Europe</td>\n",
              "      <td>2</td>\n",
              "      <td>7.561</td>\n",
              "      <td>0.04884</td>\n",
              "      <td>1.30232</td>\n",
              "      <td>1.40223</td>\n",
              "      <td>0.94784</td>\n",
              "      <td>0.62877</td>\n",
              "      <td>0.14145</td>\n",
              "      <td>0.43630</td>\n",
              "      <td>2.70201</td>\n",
              "    </tr>\n",
              "    <tr>\n",
              "      <th>2</th>\n",
              "      <td>Denmark</td>\n",
              "      <td>Western Europe</td>\n",
              "      <td>3</td>\n",
              "      <td>7.527</td>\n",
              "      <td>0.03328</td>\n",
              "      <td>1.32548</td>\n",
              "      <td>1.36058</td>\n",
              "      <td>0.87464</td>\n",
              "      <td>0.64938</td>\n",
              "      <td>0.48357</td>\n",
              "      <td>0.34139</td>\n",
              "      <td>2.49204</td>\n",
              "    </tr>\n",
              "    <tr>\n",
              "      <th>3</th>\n",
              "      <td>Norway</td>\n",
              "      <td>Western Europe</td>\n",
              "      <td>4</td>\n",
              "      <td>7.522</td>\n",
              "      <td>0.03880</td>\n",
              "      <td>1.45900</td>\n",
              "      <td>1.33095</td>\n",
              "      <td>0.88521</td>\n",
              "      <td>0.66973</td>\n",
              "      <td>0.36503</td>\n",
              "      <td>0.34699</td>\n",
              "      <td>2.46531</td>\n",
              "    </tr>\n",
              "    <tr>\n",
              "      <th>4</th>\n",
              "      <td>Canada</td>\n",
              "      <td>North America</td>\n",
              "      <td>5</td>\n",
              "      <td>7.427</td>\n",
              "      <td>0.03553</td>\n",
              "      <td>1.32629</td>\n",
              "      <td>1.32261</td>\n",
              "      <td>0.90563</td>\n",
              "      <td>0.63297</td>\n",
              "      <td>0.32957</td>\n",
              "      <td>0.45811</td>\n",
              "      <td>2.45176</td>\n",
              "    </tr>\n",
              "  </tbody>\n",
              "</table>\n",
              "</div>"
            ],
            "text/plain": [
              "       Country          Region  ...  Generosity  Dystopia Residual\n",
              "0  Switzerland  Western Europe  ...     0.29678            2.51738\n",
              "1      Iceland  Western Europe  ...     0.43630            2.70201\n",
              "2      Denmark  Western Europe  ...     0.34139            2.49204\n",
              "3       Norway  Western Europe  ...     0.34699            2.46531\n",
              "4       Canada   North America  ...     0.45811            2.45176\n",
              "\n",
              "[5 rows x 12 columns]"
            ]
          },
          "metadata": {
            "tags": []
          },
          "execution_count": 5
        }
      ]
    },
    {
      "cell_type": "code",
      "metadata": {
        "id": "8ThwRrZmW8LB",
        "colab": {
          "base_uri": "https://localhost:8080/"
        },
        "outputId": "fd310527-3bfc-46af-f0a7-d38a878e0f7e"
      },
      "source": [
        "# Confirm these all share columns\n",
        "world_happiness_reports = [whr2015,whr2016,whr2017,whr2018,whr2019,whr2020]\n",
        "\n",
        "# collect columns names\n",
        "total_set = set(world_happiness_reports[0].columns)\n",
        "for whr in world_happiness_reports:\n",
        "  total_set.union( set(whr.columns) )\n",
        "\n",
        "shared_set = total_set\n",
        "for i, whr in enumerate(world_happiness_reports):\n",
        "  print(i + 2015, '->' , list(whr.columns) ) \n",
        "  shared_set = shared_set.intersection(set(whr.columns))\n",
        "\n",
        "print('\\nAll Columns', sorted(total_set) )\n",
        "print('Shared Columns', sorted(shared_set) )"
      ],
      "execution_count": 6,
      "outputs": [
        {
          "output_type": "stream",
          "text": [
            "2015 -> ['Country', 'Region', 'Happiness Rank', 'Happiness Score', 'Standard Error', 'Economy (GDP per Capita)', 'Family', 'Health (Life Expectancy)', 'Freedom', 'Trust (Government Corruption)', 'Generosity', 'Dystopia Residual']\n",
            "2016 -> ['Country', 'Region', 'Happiness Rank', 'Happiness Score', 'Lower Confidence Interval', 'Upper Confidence Interval', 'Economy (GDP per Capita)', 'Family', 'Health (Life Expectancy)', 'Freedom', 'Trust (Government Corruption)', 'Generosity', 'Dystopia Residual']\n",
            "2017 -> ['Country', 'Happiness.Rank', 'Happiness.Score', 'Whisker.high', 'Whisker.low', 'Economy..GDP.per.Capita.', 'Family', 'Health..Life.Expectancy.', 'Freedom', 'Generosity', 'Trust..Government.Corruption.', 'Dystopia.Residual']\n",
            "2018 -> ['Overall rank', 'Country or region', 'Score', 'GDP per capita', 'Social support', 'Healthy life expectancy', 'Freedom to make life choices', 'Generosity', 'Perceptions of corruption']\n",
            "2019 -> ['Overall rank', 'Country or region', 'Score', 'GDP per capita', 'Social support', 'Healthy life expectancy', 'Freedom to make life choices', 'Generosity', 'Perceptions of corruption']\n",
            "2020 -> ['Country name', 'Regional indicator', 'Ladder score', 'Standard error of ladder score', 'upperwhisker', 'lowerwhisker', 'Logged GDP per capita', 'Social support', 'Healthy life expectancy', 'Freedom to make life choices', 'Generosity', 'Perceptions of corruption', 'Ladder score in Dystopia', 'Explained by: Log GDP per capita', 'Explained by: Social support', 'Explained by: Healthy life expectancy', 'Explained by: Freedom to make life choices', 'Explained by: Generosity', 'Explained by: Perceptions of corruption', 'Dystopia + residual']\n",
            "\n",
            "All Columns ['Country', 'Dystopia Residual', 'Economy (GDP per Capita)', 'Family', 'Freedom', 'Generosity', 'Happiness Rank', 'Happiness Score', 'Health (Life Expectancy)', 'Region', 'Standard Error', 'Trust (Government Corruption)']\n",
            "Shared Columns ['Generosity']\n"
          ],
          "name": "stdout"
        }
      ]
    },
    {
      "cell_type": "code",
      "metadata": {
        "id": "hk7AR_skZkuk"
      },
      "source": [
        "# Shared Columns\n",
        "cols_to_keep = [\"rank\",\"country\",\"score\",\n",
        "                \"gdp_per_capita\",\"healthy_life_expectancy\",\n",
        "                \"freedom_of_choice\",\"generosity\",\"corruption_perceptions\"]\n"
      ],
      "execution_count": 7,
      "outputs": []
    },
    {
      "cell_type": "code",
      "metadata": {
        "id": "LuDPUcKrbr0k"
      },
      "source": [
        "# 2015\n",
        "whr2015.drop([\"Region\",'Standard Error', 'Family', 'Dystopia Residual'],axis=1,inplace=True)\n",
        "whr2015.columns = [\"country\", \"rank\", \"score\", \"gdp_per_capita\",\n",
        "\"healthy_life_expectancy\", \"freedom_of_choice\", \"corruption_perceptions\",\n",
        "\"generosity\"]\n",
        "\n",
        "whr2015 = whr2015.loc[:,cols_to_keep].copy()\n",
        "whr2015[\"year\"] = 2015\n",
        "#whr2015.head()"
      ],
      "execution_count": 8,
      "outputs": []
    },
    {
      "cell_type": "code",
      "metadata": {
        "id": "7SSgFVFdcSTQ"
      },
      "source": [
        "# 2016\n",
        "whr2016.drop(['Region','Lower Confidence Interval','Upper Confidence Interval',\n",
        "            \"Family\",'Dystopia Residual'],axis=1,inplace=True)\n",
        "whr2016.columns = [\"country\",\"rank\",\"score\",\n",
        "                  \"gdp_per_capita\",\"healthy_life_expectancy\",\n",
        "                 \"freedom_of_choice\",\"corruption_perceptions\",\"generosity\"]\n",
        "\n",
        "whr2016 = whr2016.loc[:,cols_to_keep].copy()\n",
        "whr2016[\"year\"] = 2016\n",
        "#whr2016.head()"
      ],
      "execution_count": 9,
      "outputs": []
    },
    {
      "cell_type": "code",
      "metadata": {
        "id": "zJgWdqttcS0V"
      },
      "source": [
        "# 2017\n",
        "whr2017.drop([\"Whisker.high\",\"Whisker.low\",\n",
        "            \"Family\",\"Dystopia.Residual\"],axis=1,inplace=True)\n",
        "whr2017.columns =  [\"country\",\"rank\",\"score\",\n",
        "                  \"gdp_per_capita\",\"healthy_life_expectancy\",\n",
        "                 \"freedom_of_choice\",\"generosity\",\"corruption_perceptions\"]\n",
        "\n",
        "whr2017 = whr2017.loc[:,cols_to_keep].copy()\n",
        "whr2017[\"year\"] = 2017\n",
        "#whr2017.head()"
      ],
      "execution_count": 10,
      "outputs": []
    },
    {
      "cell_type": "code",
      "metadata": {
        "id": "8enEJGaucTGJ"
      },
      "source": [
        "# 2018\n",
        "whr2018.columns = [\"rank\",\"country\",\"score\",\n",
        "                  \"gdp_per_capita\",\"social_support\",\"healthy_life_expectancy\",\n",
        "                 \"freedom_of_choice\",\"generosity\",\"corruption_perceptions\"]\n",
        "pd.set_option('display.width', 500)\n",
        "pd.set_option('display.expand_frame_repr', False)\n",
        "\n",
        "whr2018 = whr2018.loc[:,cols_to_keep].copy()\n",
        "whr2018[\"year\"] = 2018\n",
        "#whr2018.head()"
      ],
      "execution_count": 11,
      "outputs": []
    },
    {
      "cell_type": "code",
      "metadata": {
        "id": "nADuCIHYcTOq"
      },
      "source": [
        "# 2019\n",
        "whr2019.columns = [\"rank\",\"country\",\"score\",\n",
        "                  \"gdp_per_capita\",\"social_support\",\"healthy_life_expectancy\",\n",
        "                 \"freedom_of_choice\",\"generosity\",\"corruption_perceptions\"]\n",
        "\n",
        "whr2019 = whr2019.loc[:,cols_to_keep].copy()\n",
        "whr2019[\"year\"] = 2019\n",
        "#whr2019.head()"
      ],
      "execution_count": 12,
      "outputs": []
    },
    {
      "cell_type": "code",
      "metadata": {
        "id": "91w6B6lDcTVa"
      },
      "source": [
        "# 2020 custom parsing\n",
        "\n",
        "if \"upperwhisker\" in whr2020.columns:\n",
        "  whr2020.drop([\"Regional indicator\",\"upperwhisker\",\"lowerwhisker\",\"Dystopia + residual\",\n",
        "                'Standard error of ladder score','Social support', 'Ladder score in Dystopia', 'Explained by: Log GDP per capita', \n",
        "                'Explained by: Social support', 'Explained by: Healthy life expectancy', 'Explained by: Freedom to make life choices', \n",
        "                'Explained by: Generosity', 'Explained by: Perceptions of corruption'],axis=1,inplace=True)\n",
        "\n",
        "# get rank from score\n",
        "if 'Ladder score' in whr2020.columns:\n",
        "  whr2020['rank'] = whr2020['Ladder score'].rank(ascending=False).astype('int32')\n",
        "\n",
        "# Rename columns\n",
        "whr2020.columns = [\"country\",'score','gdp_per_capita',\"healthy_life_expectancy\",\n",
        "                   \"freedom_of_choice\",\"generosity\",\"corruption_perceptions\",\"rank\"]\n",
        "\n",
        "whr2020 = whr2020.loc[:,cols_to_keep].copy()\n",
        "whr2020[\"year\"] = 2020\n",
        "#whr2020.head()"
      ],
      "execution_count": 13,
      "outputs": []
    },
    {
      "cell_type": "code",
      "metadata": {
        "id": "hBr4l5G0dbDm",
        "colab": {
          "base_uri": "https://localhost:8080/",
          "height": 221
        },
        "outputId": "a504a822-ea2e-43be-bd90-bdc1f87088c3"
      },
      "source": [
        "# Merge Data\n",
        "whr = whr2015.append([whr2016,whr2017,whr2018,whr2019,whr2020])\n",
        "print(len(whr),'rows captured')\n",
        "whr.head()"
      ],
      "execution_count": 14,
      "outputs": [
        {
          "output_type": "stream",
          "text": [
            "935 rows captured\n"
          ],
          "name": "stdout"
        },
        {
          "output_type": "execute_result",
          "data": {
            "text/html": [
              "<div>\n",
              "<style scoped>\n",
              "    .dataframe tbody tr th:only-of-type {\n",
              "        vertical-align: middle;\n",
              "    }\n",
              "\n",
              "    .dataframe tbody tr th {\n",
              "        vertical-align: top;\n",
              "    }\n",
              "\n",
              "    .dataframe thead th {\n",
              "        text-align: right;\n",
              "    }\n",
              "</style>\n",
              "<table border=\"1\" class=\"dataframe\">\n",
              "  <thead>\n",
              "    <tr style=\"text-align: right;\">\n",
              "      <th></th>\n",
              "      <th>rank</th>\n",
              "      <th>country</th>\n",
              "      <th>score</th>\n",
              "      <th>gdp_per_capita</th>\n",
              "      <th>healthy_life_expectancy</th>\n",
              "      <th>freedom_of_choice</th>\n",
              "      <th>generosity</th>\n",
              "      <th>corruption_perceptions</th>\n",
              "      <th>year</th>\n",
              "    </tr>\n",
              "  </thead>\n",
              "  <tbody>\n",
              "    <tr>\n",
              "      <th>0</th>\n",
              "      <td>1</td>\n",
              "      <td>Switzerland</td>\n",
              "      <td>7.587</td>\n",
              "      <td>1.39651</td>\n",
              "      <td>0.94143</td>\n",
              "      <td>0.66557</td>\n",
              "      <td>0.29678</td>\n",
              "      <td>0.41978</td>\n",
              "      <td>2015</td>\n",
              "    </tr>\n",
              "    <tr>\n",
              "      <th>1</th>\n",
              "      <td>2</td>\n",
              "      <td>Iceland</td>\n",
              "      <td>7.561</td>\n",
              "      <td>1.30232</td>\n",
              "      <td>0.94784</td>\n",
              "      <td>0.62877</td>\n",
              "      <td>0.43630</td>\n",
              "      <td>0.14145</td>\n",
              "      <td>2015</td>\n",
              "    </tr>\n",
              "    <tr>\n",
              "      <th>2</th>\n",
              "      <td>3</td>\n",
              "      <td>Denmark</td>\n",
              "      <td>7.527</td>\n",
              "      <td>1.32548</td>\n",
              "      <td>0.87464</td>\n",
              "      <td>0.64938</td>\n",
              "      <td>0.34139</td>\n",
              "      <td>0.48357</td>\n",
              "      <td>2015</td>\n",
              "    </tr>\n",
              "    <tr>\n",
              "      <th>3</th>\n",
              "      <td>4</td>\n",
              "      <td>Norway</td>\n",
              "      <td>7.522</td>\n",
              "      <td>1.45900</td>\n",
              "      <td>0.88521</td>\n",
              "      <td>0.66973</td>\n",
              "      <td>0.34699</td>\n",
              "      <td>0.36503</td>\n",
              "      <td>2015</td>\n",
              "    </tr>\n",
              "    <tr>\n",
              "      <th>4</th>\n",
              "      <td>5</td>\n",
              "      <td>Canada</td>\n",
              "      <td>7.427</td>\n",
              "      <td>1.32629</td>\n",
              "      <td>0.90563</td>\n",
              "      <td>0.63297</td>\n",
              "      <td>0.45811</td>\n",
              "      <td>0.32957</td>\n",
              "      <td>2015</td>\n",
              "    </tr>\n",
              "  </tbody>\n",
              "</table>\n",
              "</div>"
            ],
            "text/plain": [
              "   rank      country  score  gdp_per_capita  healthy_life_expectancy  freedom_of_choice  generosity  corruption_perceptions  year\n",
              "0     1  Switzerland  7.587         1.39651                  0.94143            0.66557     0.29678                 0.41978  2015\n",
              "1     2      Iceland  7.561         1.30232                  0.94784            0.62877     0.43630                 0.14145  2015\n",
              "2     3      Denmark  7.527         1.32548                  0.87464            0.64938     0.34139                 0.48357  2015\n",
              "3     4       Norway  7.522         1.45900                  0.88521            0.66973     0.34699                 0.36503  2015\n",
              "4     5       Canada  7.427         1.32629                  0.90563            0.63297     0.45811                 0.32957  2015"
            ]
          },
          "metadata": {
            "tags": []
          },
          "execution_count": 14
        }
      ]
    },
    {
      "cell_type": "code",
      "metadata": {
        "id": "SXcwqNiltWTd",
        "colab": {
          "base_uri": "https://localhost:8080/",
          "height": 419
        },
        "outputId": "63663035-601d-453b-9ef4-8bb0ffff21da"
      },
      "source": [
        "# Read and clean data\n",
        "gender_df = pd.read_excel(data_dir + 'World_Bank_Gender_Stats.xlsx', sheet_name=0)\n",
        "gender_df = gender_df.drop(columns=['Series Code', '2020 [YR2020]'])\n",
        "gender_df = gender_df.dropna(subset=['Series Name'])\n",
        "gender_df = gender_df[gender_df['Series Name'] != 'Data from database: Gender Statistics']\n",
        "gender_df = gender_df[gender_df['Series Name'] != 'Last Updated: 10/08/2020']\n",
        "\n",
        "# Change to Alpha 2 country codes\n",
        "def alpha_3_to_alpha_2(alpha_3):\n",
        "  country = pycountry.countries.get(alpha_3=alpha_3)\n",
        "  if country: return country.alpha_2\n",
        "  else: return ''\n",
        "gender_df['country_code'] = gender_df['Country Code'].apply(lambda x: alpha_3_to_alpha_2(x))\n",
        "\n",
        "# Fix NaN entries\n",
        "gender_df = gender_df.replace('..', np.nan)\n",
        "\n",
        "gender_df"
      ],
      "execution_count": 15,
      "outputs": [
        {
          "output_type": "execute_result",
          "data": {
            "text/html": [
              "<div>\n",
              "<style scoped>\n",
              "    .dataframe tbody tr th:only-of-type {\n",
              "        vertical-align: middle;\n",
              "    }\n",
              "\n",
              "    .dataframe tbody tr th {\n",
              "        vertical-align: top;\n",
              "    }\n",
              "\n",
              "    .dataframe thead th {\n",
              "        text-align: right;\n",
              "    }\n",
              "</style>\n",
              "<table border=\"1\" class=\"dataframe\">\n",
              "  <thead>\n",
              "    <tr style=\"text-align: right;\">\n",
              "      <th></th>\n",
              "      <th>Series Name</th>\n",
              "      <th>Country Name</th>\n",
              "      <th>Country Code</th>\n",
              "      <th>2016 [YR2016]</th>\n",
              "      <th>2017 [YR2017]</th>\n",
              "      <th>2018 [YR2018]</th>\n",
              "      <th>2019 [YR2019]</th>\n",
              "      <th>country_code</th>\n",
              "    </tr>\n",
              "  </thead>\n",
              "  <tbody>\n",
              "    <tr>\n",
              "      <th>0</th>\n",
              "      <td>A woman can apply for a passport in the same w...</td>\n",
              "      <td>Afghanistan</td>\n",
              "      <td>AFG</td>\n",
              "      <td>1.0</td>\n",
              "      <td>1.0</td>\n",
              "      <td>1.0</td>\n",
              "      <td>1.0</td>\n",
              "      <td>AF</td>\n",
              "    </tr>\n",
              "    <tr>\n",
              "      <th>1</th>\n",
              "      <td>A woman can apply for a passport in the same w...</td>\n",
              "      <td>Albania</td>\n",
              "      <td>ALB</td>\n",
              "      <td>1.0</td>\n",
              "      <td>1.0</td>\n",
              "      <td>1.0</td>\n",
              "      <td>1.0</td>\n",
              "      <td>AL</td>\n",
              "    </tr>\n",
              "    <tr>\n",
              "      <th>2</th>\n",
              "      <td>A woman can apply for a passport in the same w...</td>\n",
              "      <td>Algeria</td>\n",
              "      <td>DZA</td>\n",
              "      <td>0.0</td>\n",
              "      <td>0.0</td>\n",
              "      <td>0.0</td>\n",
              "      <td>0.0</td>\n",
              "      <td>DZ</td>\n",
              "    </tr>\n",
              "    <tr>\n",
              "      <th>3</th>\n",
              "      <td>A woman can apply for a passport in the same w...</td>\n",
              "      <td>American Samoa</td>\n",
              "      <td>ASM</td>\n",
              "      <td>NaN</td>\n",
              "      <td>NaN</td>\n",
              "      <td>NaN</td>\n",
              "      <td>NaN</td>\n",
              "      <td>AS</td>\n",
              "    </tr>\n",
              "    <tr>\n",
              "      <th>4</th>\n",
              "      <td>A woman can apply for a passport in the same w...</td>\n",
              "      <td>Andorra</td>\n",
              "      <td>AND</td>\n",
              "      <td>NaN</td>\n",
              "      <td>NaN</td>\n",
              "      <td>NaN</td>\n",
              "      <td>NaN</td>\n",
              "      <td>AD</td>\n",
              "    </tr>\n",
              "    <tr>\n",
              "      <th>...</th>\n",
              "      <td>...</td>\n",
              "      <td>...</td>\n",
              "      <td>...</td>\n",
              "      <td>...</td>\n",
              "      <td>...</td>\n",
              "      <td>...</td>\n",
              "      <td>...</td>\n",
              "      <td>...</td>\n",
              "    </tr>\n",
              "    <tr>\n",
              "      <th>164107</th>\n",
              "      <td>Youth illiterate population, 15-24 years, fema...</td>\n",
              "      <td>West Bank and Gaza</td>\n",
              "      <td>PSE</td>\n",
              "      <td>3355.0</td>\n",
              "      <td>NaN</td>\n",
              "      <td>3054.0</td>\n",
              "      <td>NaN</td>\n",
              "      <td>PS</td>\n",
              "    </tr>\n",
              "    <tr>\n",
              "      <th>164108</th>\n",
              "      <td>Youth illiterate population, 15-24 years, fema...</td>\n",
              "      <td>World</td>\n",
              "      <td>WLD</td>\n",
              "      <td>58662185.0</td>\n",
              "      <td>57169096.0</td>\n",
              "      <td>55666564.0</td>\n",
              "      <td>NaN</td>\n",
              "      <td></td>\n",
              "    </tr>\n",
              "    <tr>\n",
              "      <th>164109</th>\n",
              "      <td>Youth illiterate population, 15-24 years, fema...</td>\n",
              "      <td>Yemen, Rep.</td>\n",
              "      <td>YEM</td>\n",
              "      <td>NaN</td>\n",
              "      <td>NaN</td>\n",
              "      <td>NaN</td>\n",
              "      <td>NaN</td>\n",
              "      <td>YE</td>\n",
              "    </tr>\n",
              "    <tr>\n",
              "      <th>164110</th>\n",
              "      <td>Youth illiterate population, 15-24 years, fema...</td>\n",
              "      <td>Zambia</td>\n",
              "      <td>ZMB</td>\n",
              "      <td>NaN</td>\n",
              "      <td>NaN</td>\n",
              "      <td>151649.0</td>\n",
              "      <td>NaN</td>\n",
              "      <td>ZM</td>\n",
              "    </tr>\n",
              "    <tr>\n",
              "      <th>164111</th>\n",
              "      <td>Youth illiterate population, 15-24 years, fema...</td>\n",
              "      <td>Zimbabwe</td>\n",
              "      <td>ZWE</td>\n",
              "      <td>NaN</td>\n",
              "      <td>NaN</td>\n",
              "      <td>NaN</td>\n",
              "      <td>NaN</td>\n",
              "      <td>ZW</td>\n",
              "    </tr>\n",
              "  </tbody>\n",
              "</table>\n",
              "<p>164112 rows × 8 columns</p>\n",
              "</div>"
            ],
            "text/plain": [
              "                                              Series Name        Country Name Country Code  2016 [YR2016]  2017 [YR2017]  2018 [YR2018]  2019 [YR2019] country_code\n",
              "0       A woman can apply for a passport in the same w...         Afghanistan          AFG            1.0            1.0            1.0            1.0           AF\n",
              "1       A woman can apply for a passport in the same w...             Albania          ALB            1.0            1.0            1.0            1.0           AL\n",
              "2       A woman can apply for a passport in the same w...             Algeria          DZA            0.0            0.0            0.0            0.0           DZ\n",
              "3       A woman can apply for a passport in the same w...      American Samoa          ASM            NaN            NaN            NaN            NaN           AS\n",
              "4       A woman can apply for a passport in the same w...             Andorra          AND            NaN            NaN            NaN            NaN           AD\n",
              "...                                                   ...                 ...          ...            ...            ...            ...            ...          ...\n",
              "164107  Youth illiterate population, 15-24 years, fema...  West Bank and Gaza          PSE         3355.0            NaN         3054.0            NaN           PS\n",
              "164108  Youth illiterate population, 15-24 years, fema...               World          WLD     58662185.0     57169096.0     55666564.0            NaN             \n",
              "164109  Youth illiterate population, 15-24 years, fema...         Yemen, Rep.          YEM            NaN            NaN            NaN            NaN           YE\n",
              "164110  Youth illiterate population, 15-24 years, fema...              Zambia          ZMB            NaN            NaN       151649.0            NaN           ZM\n",
              "164111  Youth illiterate population, 15-24 years, fema...            Zimbabwe          ZWE            NaN            NaN            NaN            NaN           ZW\n",
              "\n",
              "[164112 rows x 8 columns]"
            ]
          },
          "metadata": {
            "tags": []
          },
          "execution_count": 15
        }
      ]
    },
    {
      "cell_type": "code",
      "metadata": {
        "id": "jH-u8clGxXq0",
        "colab": {
          "base_uri": "https://localhost:8080/"
        },
        "outputId": "ebb786d7-4367-4fbd-b63e-56e73425f607"
      },
      "source": [
        "ignore_series = [' Q1',' Q2',' Q3',' Q4',' Q5']\n",
        "unique_series = [series for series in gender_df['Series Name'].unique() if all(q not in series for q in ignore_series)]\n",
        "\n",
        "print(len(unique_series), 'unique questions, some samples below:\\n')\n",
        "unique_series[:20]"
      ],
      "execution_count": 16,
      "outputs": [
        {
          "output_type": "stream",
          "text": [
            "479 unique questions, some samples below:\n",
            "\n"
          ],
          "name": "stdout"
        },
        {
          "output_type": "execute_result",
          "data": {
            "text/plain": [
              "['A woman can apply for a passport in the same way as a man (1=yes; 0=no)',\n",
              " 'A woman can be head of household in the same way as a man (1=yes; 0=no)',\n",
              " 'A woman can choose where to live in the same way as a man (1=yes; 0=no)',\n",
              " 'A woman can get a job in the same way as a man (1=yes; 0=no)',\n",
              " 'A woman can obtain a judgment of divorce in the same way as a man (1=yes; 0=no)',\n",
              " 'A woman can open a bank account in the same way as a man (1=yes; 0=no)',\n",
              " 'A woman can register a business in the same way as a man (1=yes; 0=no)',\n",
              " 'A woman can sign a contract in the same way as a man (1=yes; 0=no)',\n",
              " 'A woman can travel outside her home in the same way as a man (1=yes; 0=no)',\n",
              " 'A woman can travel outside the country in the same way as a man (1=yes; 0=no)',\n",
              " 'A woman has the same rights to remarry as a man (1=yes; 0=no)',\n",
              " 'Access to anti-retroviral drugs, female (%)',\n",
              " 'Access to anti-retroviral drugs, male (%)',\n",
              " 'Account ownership at a financial institution or with a mobile-money-service provider, female (% of population ages 15+)',\n",
              " 'Account ownership at a financial institution or with a mobile-money-service provider, male (% of population ages 15+)',\n",
              " 'Adjusted net enrollment rate, primary, female (% of primary school age children)',\n",
              " 'Adjusted net enrollment rate, primary, male (% of primary school age children)',\n",
              " 'Adolescent fertility rate (births per 1,000 women ages 15-19)',\n",
              " 'Age at first marriage, female',\n",
              " 'Age at first marriage, male']"
            ]
          },
          "metadata": {
            "tags": []
          },
          "execution_count": 16
        }
      ]
    },
    {
      "cell_type": "markdown",
      "metadata": {
        "id": "dleY79wxYjQk"
      },
      "source": [
        "# Data Exploration"
      ]
    },
    {
      "cell_type": "markdown",
      "metadata": {
        "id": "gvLro_Olc3u9"
      },
      "source": [
        "### Aggregated World Happiness Data"
      ]
    },
    {
      "cell_type": "code",
      "metadata": {
        "id": "ft7WP-aoYkTG",
        "colab": {
          "base_uri": "https://localhost:8080/",
          "height": 419
        },
        "outputId": "b38080c9-3686-43bb-d4b9-22aaac624101"
      },
      "source": [
        "code_corrections = {'South Korea':'KR','North Cyprus':'CY','Northern Cyprus':'CY','Laos':'LA','Swaziland':'SZ','Congo (Kinshasa)':'CD',\n",
        "                    'Congo (Brazzaville)':'CG','Ivory Coast':'CI','Taiwan Province of China':'TW',\n",
        "                    'Hong Kong S.A.R., China':'HK', 'Palestinian Territories':'PS','Trinidad & Tobago':'TT',\n",
        "                    'Somaliland region':'SO', 'Hong Kong S.A.R. of China':'HK', 'Somaliland Region':'SO',\n",
        "                    'Venezuela':'VE', 'Taiwan':'TW', 'Czech Republic':'CZ', 'Bolivia':'BO', 'Russia':'RU',\n",
        "                    'Macedonia':'MK', 'Kosovo':'XK', 'Vietnam':'VN', 'Moldova':'MD', 'Iran':'IR',\n",
        "                    'Tanzania':'TZ', 'Syria':'SY', 'Panama':'PA', 'Columbia':'CO'}\n",
        "\n",
        "def to_country_code(row):\n",
        "  row_country = row['country']\n",
        "  try:\n",
        "    return pycountry.countries.get(name=row_country).alpha_2\n",
        "  except:\n",
        "    return code_corrections.get(row_country,\"\")\n",
        "  \n",
        "\n",
        "whr['country_code'] = whr.apply(to_country_code, axis=1)\n",
        "whr"
      ],
      "execution_count": 17,
      "outputs": [
        {
          "output_type": "execute_result",
          "data": {
            "text/html": [
              "<div>\n",
              "<style scoped>\n",
              "    .dataframe tbody tr th:only-of-type {\n",
              "        vertical-align: middle;\n",
              "    }\n",
              "\n",
              "    .dataframe tbody tr th {\n",
              "        vertical-align: top;\n",
              "    }\n",
              "\n",
              "    .dataframe thead th {\n",
              "        text-align: right;\n",
              "    }\n",
              "</style>\n",
              "<table border=\"1\" class=\"dataframe\">\n",
              "  <thead>\n",
              "    <tr style=\"text-align: right;\">\n",
              "      <th></th>\n",
              "      <th>rank</th>\n",
              "      <th>country</th>\n",
              "      <th>score</th>\n",
              "      <th>gdp_per_capita</th>\n",
              "      <th>healthy_life_expectancy</th>\n",
              "      <th>freedom_of_choice</th>\n",
              "      <th>generosity</th>\n",
              "      <th>corruption_perceptions</th>\n",
              "      <th>year</th>\n",
              "      <th>country_code</th>\n",
              "    </tr>\n",
              "  </thead>\n",
              "  <tbody>\n",
              "    <tr>\n",
              "      <th>0</th>\n",
              "      <td>1</td>\n",
              "      <td>Switzerland</td>\n",
              "      <td>7.5870</td>\n",
              "      <td>1.396510</td>\n",
              "      <td>0.941430</td>\n",
              "      <td>0.665570</td>\n",
              "      <td>0.296780</td>\n",
              "      <td>0.419780</td>\n",
              "      <td>2015</td>\n",
              "      <td>CH</td>\n",
              "    </tr>\n",
              "    <tr>\n",
              "      <th>1</th>\n",
              "      <td>2</td>\n",
              "      <td>Iceland</td>\n",
              "      <td>7.5610</td>\n",
              "      <td>1.302320</td>\n",
              "      <td>0.947840</td>\n",
              "      <td>0.628770</td>\n",
              "      <td>0.436300</td>\n",
              "      <td>0.141450</td>\n",
              "      <td>2015</td>\n",
              "      <td>IS</td>\n",
              "    </tr>\n",
              "    <tr>\n",
              "      <th>2</th>\n",
              "      <td>3</td>\n",
              "      <td>Denmark</td>\n",
              "      <td>7.5270</td>\n",
              "      <td>1.325480</td>\n",
              "      <td>0.874640</td>\n",
              "      <td>0.649380</td>\n",
              "      <td>0.341390</td>\n",
              "      <td>0.483570</td>\n",
              "      <td>2015</td>\n",
              "      <td>DK</td>\n",
              "    </tr>\n",
              "    <tr>\n",
              "      <th>3</th>\n",
              "      <td>4</td>\n",
              "      <td>Norway</td>\n",
              "      <td>7.5220</td>\n",
              "      <td>1.459000</td>\n",
              "      <td>0.885210</td>\n",
              "      <td>0.669730</td>\n",
              "      <td>0.346990</td>\n",
              "      <td>0.365030</td>\n",
              "      <td>2015</td>\n",
              "      <td>NO</td>\n",
              "    </tr>\n",
              "    <tr>\n",
              "      <th>4</th>\n",
              "      <td>5</td>\n",
              "      <td>Canada</td>\n",
              "      <td>7.4270</td>\n",
              "      <td>1.326290</td>\n",
              "      <td>0.905630</td>\n",
              "      <td>0.632970</td>\n",
              "      <td>0.458110</td>\n",
              "      <td>0.329570</td>\n",
              "      <td>2015</td>\n",
              "      <td>CA</td>\n",
              "    </tr>\n",
              "    <tr>\n",
              "      <th>...</th>\n",
              "      <td>...</td>\n",
              "      <td>...</td>\n",
              "      <td>...</td>\n",
              "      <td>...</td>\n",
              "      <td>...</td>\n",
              "      <td>...</td>\n",
              "      <td>...</td>\n",
              "      <td>...</td>\n",
              "      <td>...</td>\n",
              "      <td>...</td>\n",
              "    </tr>\n",
              "    <tr>\n",
              "      <th>148</th>\n",
              "      <td>149</td>\n",
              "      <td>Central African Republic</td>\n",
              "      <td>3.4759</td>\n",
              "      <td>6.625160</td>\n",
              "      <td>45.200001</td>\n",
              "      <td>0.640881</td>\n",
              "      <td>0.082410</td>\n",
              "      <td>0.891807</td>\n",
              "      <td>2020</td>\n",
              "      <td>CF</td>\n",
              "    </tr>\n",
              "    <tr>\n",
              "      <th>149</th>\n",
              "      <td>150</td>\n",
              "      <td>Rwanda</td>\n",
              "      <td>3.3123</td>\n",
              "      <td>7.600104</td>\n",
              "      <td>61.098846</td>\n",
              "      <td>0.900589</td>\n",
              "      <td>0.055484</td>\n",
              "      <td>0.183541</td>\n",
              "      <td>2020</td>\n",
              "      <td>RW</td>\n",
              "    </tr>\n",
              "    <tr>\n",
              "      <th>150</th>\n",
              "      <td>151</td>\n",
              "      <td>Zimbabwe</td>\n",
              "      <td>3.2992</td>\n",
              "      <td>7.865712</td>\n",
              "      <td>55.617260</td>\n",
              "      <td>0.711458</td>\n",
              "      <td>-0.072064</td>\n",
              "      <td>0.810237</td>\n",
              "      <td>2020</td>\n",
              "      <td>ZW</td>\n",
              "    </tr>\n",
              "    <tr>\n",
              "      <th>151</th>\n",
              "      <td>152</td>\n",
              "      <td>South Sudan</td>\n",
              "      <td>2.8166</td>\n",
              "      <td>7.425360</td>\n",
              "      <td>51.000000</td>\n",
              "      <td>0.451314</td>\n",
              "      <td>0.016519</td>\n",
              "      <td>0.763417</td>\n",
              "      <td>2020</td>\n",
              "      <td>SS</td>\n",
              "    </tr>\n",
              "    <tr>\n",
              "      <th>152</th>\n",
              "      <td>153</td>\n",
              "      <td>Afghanistan</td>\n",
              "      <td>2.5669</td>\n",
              "      <td>7.462861</td>\n",
              "      <td>52.590000</td>\n",
              "      <td>0.396573</td>\n",
              "      <td>-0.096429</td>\n",
              "      <td>0.933687</td>\n",
              "      <td>2020</td>\n",
              "      <td>AF</td>\n",
              "    </tr>\n",
              "  </tbody>\n",
              "</table>\n",
              "<p>935 rows × 10 columns</p>\n",
              "</div>"
            ],
            "text/plain": [
              "     rank                   country   score  gdp_per_capita  healthy_life_expectancy  freedom_of_choice  generosity  corruption_perceptions  year country_code\n",
              "0       1               Switzerland  7.5870        1.396510                 0.941430           0.665570    0.296780                0.419780  2015           CH\n",
              "1       2                   Iceland  7.5610        1.302320                 0.947840           0.628770    0.436300                0.141450  2015           IS\n",
              "2       3                   Denmark  7.5270        1.325480                 0.874640           0.649380    0.341390                0.483570  2015           DK\n",
              "3       4                    Norway  7.5220        1.459000                 0.885210           0.669730    0.346990                0.365030  2015           NO\n",
              "4       5                    Canada  7.4270        1.326290                 0.905630           0.632970    0.458110                0.329570  2015           CA\n",
              "..    ...                       ...     ...             ...                      ...                ...         ...                     ...   ...          ...\n",
              "148   149  Central African Republic  3.4759        6.625160                45.200001           0.640881    0.082410                0.891807  2020           CF\n",
              "149   150                    Rwanda  3.3123        7.600104                61.098846           0.900589    0.055484                0.183541  2020           RW\n",
              "150   151                  Zimbabwe  3.2992        7.865712                55.617260           0.711458   -0.072064                0.810237  2020           ZW\n",
              "151   152               South Sudan  2.8166        7.425360                51.000000           0.451314    0.016519                0.763417  2020           SS\n",
              "152   153               Afghanistan  2.5669        7.462861                52.590000           0.396573   -0.096429                0.933687  2020           AF\n",
              "\n",
              "[935 rows x 10 columns]"
            ]
          },
          "metadata": {
            "tags": []
          },
          "execution_count": 17
        }
      ]
    },
    {
      "cell_type": "markdown",
      "metadata": {
        "id": "XXASBcXqnvVw"
      },
      "source": [
        "### Where the top ranked countries are located"
      ]
    },
    {
      "cell_type": "code",
      "metadata": {
        "id": "bz3LsOQBBAVB",
        "colab": {
          "base_uri": "https://localhost:8080/",
          "height": 459
        },
        "outputId": "d677c260-9c4e-4224-e5d3-cf2d0042f91c"
      },
      "source": [
        "# import pygal library \n",
        "from pygal_maps_world.maps import World\n",
        "from pygal.style import Style\n",
        "from pylab import *\n",
        "\n",
        "# Create a color map\n",
        "cmap = cm.get_cmap('viridis', 10) \n",
        "colors = [matplotlib.colors.rgb2hex(cmap(i)[:3]) for i in range(cmap.N)]\n",
        "\n",
        "# Apply Color Map and Transparency\n",
        "custom_style = Style(\n",
        "  background='transparent', plot_background='transparent', opacity='1',\n",
        "  colors=(colors))\n",
        "\n",
        "# All Countries\n",
        "latest_rankings = whr[whr['year']==2020]\n",
        "top_countries= latest_rankings[['country','country_code','rank','score']]\n",
        "\n",
        "# Create a dictionary of dict[country code] = happiness score\n",
        "score_dict = pd.Series(top_countries['score'].values,index=top_countries['country_code'].str.lower()).to_dict()\n",
        "\n",
        "# Greenland is part of Denmark\n",
        "score_dict['gl'] = score_dict.get('dk')\n",
        "  \n",
        "# Create a world map http://www.pygal.org/en/stable/documentation/types/maps/pygal_maps_world.html\n",
        "worldmap = World(interpolate='cubic', style=custom_style)\n",
        "  \n",
        "# set the title of the map \n",
        "print('Happiest Countries According to the WHR in 2020 by Decile')\n",
        "\n",
        "# cut into deciles\n",
        "sorted_countries = [k for k, v in sorted(score_dict.items(), key=lambda item: item[1])]\n",
        "groups = 16 \n",
        "for i in range(0, len(sorted_countries), groups):\n",
        "  grouping = sorted_countries[i:i + groups]\n",
        "  #title = f'{grouping[0].upper()}-{grouping[-1].upper()}'\n",
        "  percentile = int((i/len(sorted_countries)) * 100)\n",
        "  title = f'{percentile}th Percentile'\n",
        "  worldmap.add(title, grouping) \n",
        "\n",
        "# adding the countries \n",
        "#worldmap.add('Happiness Score', score_dict) \n",
        "  \n",
        "# save into the file \n",
        "png_filename = 'happiest_countries.png'\n",
        "worldmap.render_to_png(png_filename) \n",
        "\n",
        "# Open the cropped image\n",
        "im = Image.open(png_filename) \n",
        "im.crop((0, 0, 785, 425)) # left, top, right, bottom"
      ],
      "execution_count": 18,
      "outputs": [
        {
          "output_type": "stream",
          "text": [
            "Happiest Countries According to the WHR in 2020 by Decile\n"
          ],
          "name": "stdout"
        },
        {
          "output_type": "execute_result",
          "data": {
            "image/png": "[encoded data removed]",
            "text/plain": [
              "<PIL.Image.Image image mode=RGBA size=785x425 at 0x7FF57FC33250>"
            ]
          },
          "metadata": {
            "tags": []
          },
          "execution_count": 18
        }
      ]
    },
    {
      "cell_type": "markdown",
      "metadata": {
        "id": "t0dqwaIkNlr8"
      },
      "source": [
        "Here are the World Happiness Reports happiest countries split at the 10th percentile with New Zealand (NZ) - Finland (FI) being the best performing group and Afganistan (AF) - Egypt (EG) the lowest performing. \n",
        "\n",
        "Note: There are some missing countries due to lack of data on the part of the WHR for 2020"
      ]
    },
    {
      "cell_type": "markdown",
      "metadata": {
        "id": "3uO_sqtxVR3O"
      },
      "source": [
        "We notice that most of the top ranked countries exist in northern Europe. We cannot see a single country in Africa, the Americas, or Asia in the top 10."
      ]
    },
    {
      "cell_type": "markdown",
      "metadata": {
        "id": "RUyY1Zdrc77b"
      },
      "source": [
        "### Explore the Stability of Rankings Over Time"
      ]
    },
    {
      "cell_type": "code",
      "metadata": {
        "id": "vNgRcdNinmxD",
        "colab": {
          "base_uri": "https://localhost:8080/",
          "height": 411
        },
        "outputId": "64d4625d-b16a-4c1f-8c75-ae9ae1df9765"
      },
      "source": [
        "# Top 5 and Bottom 5 Countries\n",
        "\n",
        "whr_score_stability = whr[['score', 'year', 'country']]\n",
        "\n",
        "latest_rankings = whr[whr['year']==2020]\n",
        "top_countries = latest_rankings.head(5)['country']\n",
        "bottom_countries = latest_rankings.tail(5)['country']\n",
        "countries = top_countries.append(bottom_countries)\n",
        "\n",
        "whr_score_specific_countries_stability = whr_score_stability.loc[whr_score_stability['country'].isin(countries)]\n",
        "\n",
        "plt.rcParams.update({'font.size': 12})\n",
        "\n",
        "fig, ax = plt.subplots(figsize=(8, 6))\n",
        "sns.lineplot(data=whr_score_specific_countries_stability, x='year', y='score', hue='country', ax=ax)\n",
        "plt.legend(bbox_to_anchor=(0.55,0.55))\n",
        "plt.ylabel('Ladder Score of country in WHR')\n",
        "plt.xlabel('Year')\n",
        "plt.title('Score stability of top 5 and bottom 5 countries in WHR')\n",
        "\n",
        "plt.show()"
      ],
      "execution_count": 19,
      "outputs": [
        {
          "output_type": "display_data",
          "data": {
            "image/png": "[encoded data removed]",
            "text/plain": [
              "<Figure size 576x432 with 1 Axes>"
            ]
          },
          "metadata": {
            "tags": [],
            "needs_background": "light"
          }
        }
      ]
    },
    {
      "cell_type": "markdown",
      "metadata": {
        "id": "R4QnVSNjhbKd"
      },
      "source": [
        "We can observe immeditately that countries that place at the top consistently stay at the top whereas countries towards the bottom show greater variance."
      ]
    },
    {
      "cell_type": "code",
      "metadata": {
        "id": "kt055S6rhKxN",
        "colab": {
          "base_uri": "https://localhost:8080/",
          "height": 419
        },
        "outputId": "3fe97915-7a8f-42c4-bd69-d1756fa3f7a9"
      },
      "source": [
        "whr_score_variance = whr_score_stability[['country','score']].groupby(by=\"country\",as_index=False).agg([np.mean,np.std])\n",
        "# Source: https://stackoverflow.com/questions/14507794/pandas-how-to-flatten-a-hierarchical-index-in-columns/55757002\n",
        "whr_score_variance.columns = ['_'.join(tup).rstrip('_') for tup in whr_score_variance.columns.values] \n",
        "whr_score_variance = whr_score_variance.reset_index()\n",
        "whr_score_variance.sort_values(by=['score_mean'],ascending=False)"
      ],
      "execution_count": 20,
      "outputs": [
        {
          "output_type": "execute_result",
          "data": {
            "text/html": [
              "<div>\n",
              "<style scoped>\n",
              "    .dataframe tbody tr th:only-of-type {\n",
              "        vertical-align: middle;\n",
              "    }\n",
              "\n",
              "    .dataframe tbody tr th {\n",
              "        vertical-align: top;\n",
              "    }\n",
              "\n",
              "    .dataframe thead th {\n",
              "        text-align: right;\n",
              "    }\n",
              "</style>\n",
              "<table border=\"1\" class=\"dataframe\">\n",
              "  <thead>\n",
              "    <tr style=\"text-align: right;\">\n",
              "      <th></th>\n",
              "      <th>country</th>\n",
              "      <th>score_mean</th>\n",
              "      <th>score_std</th>\n",
              "    </tr>\n",
              "  </thead>\n",
              "  <tbody>\n",
              "    <tr>\n",
              "      <th>46</th>\n",
              "      <td>Finland</td>\n",
              "      <td>7.582950</td>\n",
              "      <td>0.179534</td>\n",
              "    </tr>\n",
              "    <tr>\n",
              "      <th>38</th>\n",
              "      <td>Denmark</td>\n",
              "      <td>7.562600</td>\n",
              "      <td>0.050201</td>\n",
              "    </tr>\n",
              "    <tr>\n",
              "      <th>113</th>\n",
              "      <td>Norway</td>\n",
              "      <td>7.532167</td>\n",
              "      <td>0.038845</td>\n",
              "    </tr>\n",
              "    <tr>\n",
              "      <th>147</th>\n",
              "      <td>Switzerland</td>\n",
              "      <td>7.519483</td>\n",
              "      <td>0.043739</td>\n",
              "    </tr>\n",
              "    <tr>\n",
              "      <th>62</th>\n",
              "      <td>Iceland</td>\n",
              "      <td>7.509917</td>\n",
              "      <td>0.025413</td>\n",
              "    </tr>\n",
              "    <tr>\n",
              "      <th>...</th>\n",
              "      <td>...</td>\n",
              "      <td>...</td>\n",
              "      <td>...</td>\n",
              "    </tr>\n",
              "    <tr>\n",
              "      <th>0</th>\n",
              "      <td>Afghanistan</td>\n",
              "      <td>3.355150</td>\n",
              "      <td>0.438653</td>\n",
              "    </tr>\n",
              "    <tr>\n",
              "      <th>148</th>\n",
              "      <td>Syria</td>\n",
              "      <td>3.292200</td>\n",
              "      <td>0.233573</td>\n",
              "    </tr>\n",
              "    <tr>\n",
              "      <th>140</th>\n",
              "      <td>South Sudan</td>\n",
              "      <td>3.269320</td>\n",
              "      <td>0.446822</td>\n",
              "    </tr>\n",
              "    <tr>\n",
              "      <th>26</th>\n",
              "      <td>Central African Republic</td>\n",
              "      <td>3.202580</td>\n",
              "      <td>0.383731</td>\n",
              "    </tr>\n",
              "    <tr>\n",
              "      <th>22</th>\n",
              "      <td>Burundi</td>\n",
              "      <td>3.195050</td>\n",
              "      <td>0.449344</td>\n",
              "    </tr>\n",
              "  </tbody>\n",
              "</table>\n",
              "<p>172 rows × 3 columns</p>\n",
              "</div>"
            ],
            "text/plain": [
              "                      country  score_mean  score_std\n",
              "46                    Finland    7.582950   0.179534\n",
              "38                    Denmark    7.562600   0.050201\n",
              "113                    Norway    7.532167   0.038845\n",
              "147               Switzerland    7.519483   0.043739\n",
              "62                    Iceland    7.509917   0.025413\n",
              "..                        ...         ...        ...\n",
              "0                 Afghanistan    3.355150   0.438653\n",
              "148                     Syria    3.292200   0.233573\n",
              "140               South Sudan    3.269320   0.446822\n",
              "26   Central African Republic    3.202580   0.383731\n",
              "22                    Burundi    3.195050   0.449344\n",
              "\n",
              "[172 rows x 3 columns]"
            ]
          },
          "metadata": {
            "tags": []
          },
          "execution_count": 20
        }
      ]
    },
    {
      "cell_type": "markdown",
      "metadata": {
        "id": "s9UlgCHonOAy"
      },
      "source": [
        "Here we can immediately begin to see that the countries that typically score towards the top enjoy much smaller standard deviations in the scores than countries at the bottom. Let's explore further and see if this is prevailing trend."
      ]
    },
    {
      "cell_type": "code",
      "metadata": {
        "id": "WevMMr5ujUW8",
        "colab": {
          "base_uri": "https://localhost:8080/",
          "height": 336
        },
        "outputId": "029e1288-4095-4e23-d969-a7985445d948"
      },
      "source": [
        "mean_scores = whr_score_variance['score_mean']\n",
        "std_scores = whr_score_variance['score_std']\n",
        "\n",
        "# Correlation and p-value\n",
        "whr_score_variance_clean = whr_score_variance.dropna()\n",
        "corr, p_val = stats.pearsonr(whr_score_variance_clean['score_mean'], whr_score_variance_clean['score_std'])\n",
        "print(f\"{round(corr,3)} Correlation Between Standard Deviation of Rank and Mean Rank with p-value of {p_val}\\n\");\n",
        "\n",
        "sns.regplot(x=mean_scores, y=std_scores);\n",
        "plt.ylabel('Standard Deviation of score')\n",
        "plt.xlabel('Mean score')\n",
        "plt.title(\"Relationship between the mean and the std of scores by country\")\n",
        "plt.show();"
      ],
      "execution_count": 21,
      "outputs": [
        {
          "output_type": "stream",
          "text": [
            "-0.506 Correlation Between Standard Deviation of Rank and Mean Rank with p-value of 5.596500544417113e-12\n",
            "\n"
          ],
          "name": "stdout"
        },
        {
          "output_type": "display_data",
          "data": {
            "image/png": "[encoded data removed]",
            "text/plain": [
              "<Figure size 432x288 with 1 Axes>"
            ]
          },
          "metadata": {
            "tags": [],
            "needs_background": "light"
          }
        }
      ]
    },
    {
      "cell_type": "markdown",
      "metadata": {
        "id": "GNZ9uk8znaRF"
      },
      "source": [
        "Here our suspicions have been confirmed and we see that countries that rank at the bottom seem to experience greater turbulence which in turn keeps their rankings in flux."
      ]
    },
    {
      "cell_type": "markdown",
      "metadata": {
        "id": "UodsapxsU7fw"
      },
      "source": [
        "### Where are the world's largest economies ranked?"
      ]
    },
    {
      "cell_type": "code",
      "metadata": {
        "id": "F7W_yR-9qE6M",
        "colab": {
          "base_uri": "https://localhost:8080/",
          "height": 336
        },
        "outputId": "bfea67e0-22d3-443f-f6f0-7b47bad56fad"
      },
      "source": [
        "whr_2020 = whr[whr['year'] == 2020]\n",
        "\n",
        "# Correlation and p-value\n",
        "whr_2020_clean = whr_2020.dropna()\n",
        "corr, p_val = stats.pearsonr(whr_2020_clean['gdp_per_capita'], whr_2020_clean['score'])\n",
        "print(f\"{round(corr,3)} Correlation Between Standard Deviation of Rank and Mean Rank with p-value of {p_val}\\n\");\n",
        "\n",
        "sns.regplot(data=whr_2020, x='gdp_per_capita', y='score')\n",
        "plt.xlabel('GDP per capita of a country (log)')\n",
        "plt.ylabel('Happiness Score')\n",
        "plt.title('How GDP Per Capita tracks Score in the WHR')\n",
        "plt.show()"
      ],
      "execution_count": 22,
      "outputs": [
        {
          "output_type": "stream",
          "text": [
            "0.775 Correlation Between Standard Deviation of Rank and Mean Rank with p-value of 5.983050790573e-32\n",
            "\n"
          ],
          "name": "stdout"
        },
        {
          "output_type": "display_data",
          "data": {
            "image/png": "[encoded data removed]",
            "text/plain": [
              "<Figure size 432x288 with 1 Axes>"
            ]
          },
          "metadata": {
            "tags": [],
            "needs_background": "light"
          }
        }
      ]
    },
    {
      "cell_type": "markdown",
      "metadata": {
        "id": "pbUWKPgqVDjU"
      },
      "source": [
        "There is a very strong correlation between GDP Per Capita and the happiness score given to a country by the World Happiness Report."
      ]
    },
    {
      "cell_type": "markdown",
      "metadata": {
        "id": "H28356LOsIr2"
      },
      "source": [
        "### How much explanatory power do the other WHR features have?"
      ]
    },
    {
      "cell_type": "code",
      "metadata": {
        "id": "6iBiX9qZttO2",
        "colab": {
          "base_uri": "https://localhost:8080/",
          "height": 297
        },
        "outputId": "bc3991c1-2568-4cc0-a0c4-b7216be6621d"
      },
      "source": [
        "correlation_df = whr[whr['year'] == 2020].drop(['year'], axis=1)\n",
        "correlation_df['rank'] = correlation_df['rank'] * -1 # flip\n",
        "correlation_df['corruption_perceptions'] = correlation_df['corruption_perceptions'] * -1 # flip\n",
        "\n",
        "correlations = correlation_df.corr(method='pearson');\n",
        "correlation_df.describe()"
      ],
      "execution_count": 23,
      "outputs": [
        {
          "output_type": "execute_result",
          "data": {
            "text/html": [
              "<div>\n",
              "<style scoped>\n",
              "    .dataframe tbody tr th:only-of-type {\n",
              "        vertical-align: middle;\n",
              "    }\n",
              "\n",
              "    .dataframe tbody tr th {\n",
              "        vertical-align: top;\n",
              "    }\n",
              "\n",
              "    .dataframe thead th {\n",
              "        text-align: right;\n",
              "    }\n",
              "</style>\n",
              "<table border=\"1\" class=\"dataframe\">\n",
              "  <thead>\n",
              "    <tr style=\"text-align: right;\">\n",
              "      <th></th>\n",
              "      <th>rank</th>\n",
              "      <th>score</th>\n",
              "      <th>gdp_per_capita</th>\n",
              "      <th>healthy_life_expectancy</th>\n",
              "      <th>freedom_of_choice</th>\n",
              "      <th>generosity</th>\n",
              "      <th>corruption_perceptions</th>\n",
              "    </tr>\n",
              "  </thead>\n",
              "  <tbody>\n",
              "    <tr>\n",
              "      <th>count</th>\n",
              "      <td>153.000000</td>\n",
              "      <td>153.00000</td>\n",
              "      <td>153.000000</td>\n",
              "      <td>153.000000</td>\n",
              "      <td>153.000000</td>\n",
              "      <td>153.000000</td>\n",
              "      <td>153.000000</td>\n",
              "    </tr>\n",
              "    <tr>\n",
              "      <th>mean</th>\n",
              "      <td>-77.000000</td>\n",
              "      <td>5.47324</td>\n",
              "      <td>9.295706</td>\n",
              "      <td>64.445529</td>\n",
              "      <td>0.783360</td>\n",
              "      <td>-0.014568</td>\n",
              "      <td>-0.733120</td>\n",
              "    </tr>\n",
              "    <tr>\n",
              "      <th>std</th>\n",
              "      <td>44.311398</td>\n",
              "      <td>1.11227</td>\n",
              "      <td>1.201588</td>\n",
              "      <td>7.057848</td>\n",
              "      <td>0.117786</td>\n",
              "      <td>0.151809</td>\n",
              "      <td>0.175172</td>\n",
              "    </tr>\n",
              "    <tr>\n",
              "      <th>min</th>\n",
              "      <td>-153.000000</td>\n",
              "      <td>2.56690</td>\n",
              "      <td>6.492642</td>\n",
              "      <td>45.200001</td>\n",
              "      <td>0.396573</td>\n",
              "      <td>-0.300907</td>\n",
              "      <td>-0.935585</td>\n",
              "    </tr>\n",
              "    <tr>\n",
              "      <th>25%</th>\n",
              "      <td>-115.000000</td>\n",
              "      <td>4.72410</td>\n",
              "      <td>8.350645</td>\n",
              "      <td>58.961712</td>\n",
              "      <td>0.714839</td>\n",
              "      <td>-0.127015</td>\n",
              "      <td>-0.849151</td>\n",
              "    </tr>\n",
              "    <tr>\n",
              "      <th>50%</th>\n",
              "      <td>-77.000000</td>\n",
              "      <td>5.51500</td>\n",
              "      <td>9.456313</td>\n",
              "      <td>66.305145</td>\n",
              "      <td>0.799805</td>\n",
              "      <td>-0.033665</td>\n",
              "      <td>-0.783122</td>\n",
              "    </tr>\n",
              "    <tr>\n",
              "      <th>75%</th>\n",
              "      <td>-39.000000</td>\n",
              "      <td>6.22850</td>\n",
              "      <td>10.265124</td>\n",
              "      <td>69.289192</td>\n",
              "      <td>0.877709</td>\n",
              "      <td>0.085429</td>\n",
              "      <td>-0.683019</td>\n",
              "    </tr>\n",
              "    <tr>\n",
              "      <th>max</th>\n",
              "      <td>-1.000000</td>\n",
              "      <td>7.80870</td>\n",
              "      <td>11.450681</td>\n",
              "      <td>76.804581</td>\n",
              "      <td>0.974998</td>\n",
              "      <td>0.560664</td>\n",
              "      <td>-0.109784</td>\n",
              "    </tr>\n",
              "  </tbody>\n",
              "</table>\n",
              "</div>"
            ],
            "text/plain": [
              "             rank      score  gdp_per_capita  healthy_life_expectancy  freedom_of_choice  generosity  corruption_perceptions\n",
              "count  153.000000  153.00000      153.000000               153.000000         153.000000  153.000000              153.000000\n",
              "mean   -77.000000    5.47324        9.295706                64.445529           0.783360   -0.014568               -0.733120\n",
              "std     44.311398    1.11227        1.201588                 7.057848           0.117786    0.151809                0.175172\n",
              "min   -153.000000    2.56690        6.492642                45.200001           0.396573   -0.300907               -0.935585\n",
              "25%   -115.000000    4.72410        8.350645                58.961712           0.714839   -0.127015               -0.849151\n",
              "50%    -77.000000    5.51500        9.456313                66.305145           0.799805   -0.033665               -0.783122\n",
              "75%    -39.000000    6.22850       10.265124                69.289192           0.877709    0.085429               -0.683019\n",
              "max     -1.000000    7.80870       11.450681                76.804581           0.974998    0.560664               -0.109784"
            ]
          },
          "metadata": {
            "tags": []
          },
          "execution_count": 23
        }
      ]
    },
    {
      "cell_type": "code",
      "metadata": {
        "id": "uBfsIH-4uiZf",
        "colab": {
          "base_uri": "https://localhost:8080/",
          "height": 507
        },
        "outputId": "7eb7c69d-4c73-4725-8cd5-bd13a5f0ae66"
      },
      "source": [
        "# Create a (truncated) heat map\n",
        "\n",
        "# Create a mask using official documentation code\n",
        "mask = np.zeros_like(correlations)\n",
        "mask[np.triu_indices_from(mask)] = True\n",
        "\n",
        "labels = ['Rank','Ladder Score','GDP Per Capita','Life Expectancy','Freedom of Choice','Generosity','Perceived Corruption']\n",
        "\n",
        "f, ax = plt.subplots(figsize=(9, 6))\n",
        "ax = sns.heatmap(correlations,\n",
        "  cmap='coolwarm',\n",
        "#  mask=mask,\n",
        "  xticklabels=labels,\n",
        "  yticklabels=labels,\n",
        "  annot=True);\n",
        "ax.set_title('WHR Correlation Heatmap')\n",
        "plt.show()"
      ],
      "execution_count": 24,
      "outputs": [
        {
          "output_type": "display_data",
          "data": {
            "image/png": "[encoded data removed]",
            "text/plain": [
              "<Figure size 648x432 with 2 Axes>"
            ]
          },
          "metadata": {
            "tags": [],
            "needs_background": "light"
          }
        }
      ]
    },
    {
      "cell_type": "markdown",
      "metadata": {
        "id": "a9lfbUvgG_BZ"
      },
      "source": [
        "Examining **Rank** we see that GDP Per Capita and Healthy Life Expectancy have very strong correlations of around 0.78 for each. Generosity seemingly has the lowest explaining power for the rank of a country in terms of happiness at a correlation of only 0.045.\n",
        "\n",
        "Examining **GDP Per Capita** we note that Healthy Life Expectance is strongly correlated, which makes sense as higher GDP can likely increase access to medical professionals and technology."
      ]
    },
    {
      "cell_type": "markdown",
      "metadata": {
        "id": "f4iT6RUBjO9X"
      },
      "source": [
        "### Examining A Subset of Countries\n",
        "We narrow our analysis to countries from US New's Ranking of Happiness for Women since countries at the top of the ranking show very little variance in their performance on the WHR. The US News data lists the best countries for women to live in, based on a survey of 9,800 women. Source: https://www.usnews.com/news/best-countries/best-women"
      ]
    },
    {
      "cell_type": "code",
      "metadata": {
        "id": "mUBqe37DjN9e"
      },
      "source": [
        "# This data was scraped and refined from US News data\n",
        "best_for_women = pd.read_csv(data_dir + \"best_countries_for_women.csv\")\n",
        "best_for_women.columns = ['country','rank_women','country_code']\n",
        "\n",
        "# Add in women's rankings\n",
        "whr_women = pd.merge(whr, best_for_women[['rank_women','country_code']], on='country_code')\n",
        "\n",
        "# Only keep the 2020 entries\n",
        "whr_women = whr_women[whr_women['year']==2020]"
      ],
      "execution_count": 25,
      "outputs": []
    },
    {
      "cell_type": "code",
      "metadata": {
        "colab": {
          "base_uri": "https://localhost:8080/",
          "height": 419
        },
        "id": "5Qa8pOVyKHUd",
        "outputId": "5becbaf5-a2e4-450c-cc42-6ad2098585b7"
      },
      "source": [
        "# Codes for filtering\n",
        "\n",
        "# All codes\n",
        "all_codes = list(best_for_women['country_code'])\n",
        "\n",
        "# Cut down to a subset of the countries, shying away from the top where they are very homogenous\n",
        "best_for_women_codes = list(best_for_women[best_for_women['rank_women'] % 2 == 0].tail(30)['country_code'])\n",
        "\n",
        "# G20 Nations\n",
        "g20_codes = ['CA', 'AU', 'GB', 'DE', 'US', 'FR', 'MX', 'SA', 'IT', 'BR', 'AR', 'KR', 'RU', 'ID', 'TR', 'CN', 'ZA', 'IN']\n",
        "\n",
        "# European Union Nations\n",
        "eu_codes = ['FI', 'DK', 'NL', 'SE', 'AT', 'LU', 'DE', 'CZ', 'FR', 'ES', 'IT', 'SI', 'SK', 'LT', 'PL', 'RO', 'EE', 'LV', 'PT', 'BY', 'GR', 'HR']\n",
        "\n",
        "# Europe\n",
        "europe_codes = ['FI', 'DK', 'CH', 'NO', 'NL', 'SE', 'AT', 'LU', 'DE', 'GB',  'CZ', 'FR', 'ES', 'IT', 'SI', 'SK', 'LT', 'PL', 'RO', 'EE', 'LV', 'PT', 'BY', 'GR', 'HR', 'RS', 'RU', 'BG', 'UA']\n",
        "\n",
        "# Latin America\n",
        "latin_codes = ['BR', 'CL', 'CO', 'AR', 'EC', 'PE', 'BO', 'MX', 'PA', 'CR', 'DO']\n",
        "\n",
        "# Union of South American Nations\n",
        "usan_codes = ['BR', 'CL', 'CO', 'AR', 'EC', 'PE', 'BO']\n",
        "\n",
        "women_df = whr_women[whr_women['country_code'].isin(all_codes)].reset_index(drop=True)\n",
        "women_df.sort_values('rank')"
      ],
      "execution_count": 26,
      "outputs": [
        {
          "output_type": "execute_result",
          "data": {
            "text/html": [
              "<div>\n",
              "<style scoped>\n",
              "    .dataframe tbody tr th:only-of-type {\n",
              "        vertical-align: middle;\n",
              "    }\n",
              "\n",
              "    .dataframe tbody tr th {\n",
              "        vertical-align: top;\n",
              "    }\n",
              "\n",
              "    .dataframe thead th {\n",
              "        text-align: right;\n",
              "    }\n",
              "</style>\n",
              "<table border=\"1\" class=\"dataframe\">\n",
              "  <thead>\n",
              "    <tr style=\"text-align: right;\">\n",
              "      <th></th>\n",
              "      <th>rank</th>\n",
              "      <th>country</th>\n",
              "      <th>score</th>\n",
              "      <th>gdp_per_capita</th>\n",
              "      <th>healthy_life_expectancy</th>\n",
              "      <th>freedom_of_choice</th>\n",
              "      <th>generosity</th>\n",
              "      <th>corruption_perceptions</th>\n",
              "      <th>year</th>\n",
              "      <th>country_code</th>\n",
              "      <th>rank_women</th>\n",
              "    </tr>\n",
              "  </thead>\n",
              "  <tbody>\n",
              "    <tr>\n",
              "      <th>4</th>\n",
              "      <td>1</td>\n",
              "      <td>Finland</td>\n",
              "      <td>7.8087</td>\n",
              "      <td>10.639267</td>\n",
              "      <td>71.900825</td>\n",
              "      <td>0.949172</td>\n",
              "      <td>-0.059482</td>\n",
              "      <td>0.195445</td>\n",
              "      <td>2020</td>\n",
              "      <td>FI</td>\n",
              "      <td>6</td>\n",
              "    </tr>\n",
              "    <tr>\n",
              "      <th>1</th>\n",
              "      <td>2</td>\n",
              "      <td>Denmark</td>\n",
              "      <td>7.6456</td>\n",
              "      <td>10.774001</td>\n",
              "      <td>72.402504</td>\n",
              "      <td>0.951444</td>\n",
              "      <td>0.066202</td>\n",
              "      <td>0.168489</td>\n",
              "      <td>2020</td>\n",
              "      <td>DK</td>\n",
              "      <td>1</td>\n",
              "    </tr>\n",
              "    <tr>\n",
              "      <th>0</th>\n",
              "      <td>3</td>\n",
              "      <td>Switzerland</td>\n",
              "      <td>7.5599</td>\n",
              "      <td>10.979933</td>\n",
              "      <td>74.102448</td>\n",
              "      <td>0.921337</td>\n",
              "      <td>0.105911</td>\n",
              "      <td>0.303728</td>\n",
              "      <td>2020</td>\n",
              "      <td>CH</td>\n",
              "      <td>7</td>\n",
              "    </tr>\n",
              "    <tr>\n",
              "      <th>2</th>\n",
              "      <td>5</td>\n",
              "      <td>Norway</td>\n",
              "      <td>7.4880</td>\n",
              "      <td>11.087804</td>\n",
              "      <td>73.200783</td>\n",
              "      <td>0.955750</td>\n",
              "      <td>0.134533</td>\n",
              "      <td>0.263218</td>\n",
              "      <td>2020</td>\n",
              "      <td>NO</td>\n",
              "      <td>4</td>\n",
              "    </tr>\n",
              "    <tr>\n",
              "      <th>5</th>\n",
              "      <td>6</td>\n",
              "      <td>Netherlands</td>\n",
              "      <td>7.4489</td>\n",
              "      <td>10.812712</td>\n",
              "      <td>72.300919</td>\n",
              "      <td>0.908548</td>\n",
              "      <td>0.207612</td>\n",
              "      <td>0.364717</td>\n",
              "      <td>2020</td>\n",
              "      <td>NL</td>\n",
              "      <td>3</td>\n",
              "    </tr>\n",
              "    <tr>\n",
              "      <th>...</th>\n",
              "      <td>...</td>\n",
              "      <td>...</td>\n",
              "      <td>...</td>\n",
              "      <td>...</td>\n",
              "      <td>...</td>\n",
              "      <td>...</td>\n",
              "      <td>...</td>\n",
              "      <td>...</td>\n",
              "      <td>...</td>\n",
              "      <td>...</td>\n",
              "      <td>...</td>\n",
              "    </tr>\n",
              "    <tr>\n",
              "      <th>61</th>\n",
              "      <td>128</td>\n",
              "      <td>Tunisia</td>\n",
              "      <td>4.3922</td>\n",
              "      <td>9.314973</td>\n",
              "      <td>66.897858</td>\n",
              "      <td>0.593362</td>\n",
              "      <td>-0.216414</td>\n",
              "      <td>0.867590</td>\n",
              "      <td>2020</td>\n",
              "      <td>TN</td>\n",
              "      <td>73</td>\n",
              "    </tr>\n",
              "    <tr>\n",
              "      <th>68</th>\n",
              "      <td>130</td>\n",
              "      <td>Sri Lanka</td>\n",
              "      <td>4.3270</td>\n",
              "      <td>9.389970</td>\n",
              "      <td>67.200066</td>\n",
              "      <td>0.837634</td>\n",
              "      <td>0.081130</td>\n",
              "      <td>0.859002</td>\n",
              "      <td>2020</td>\n",
              "      <td>LK</td>\n",
              "      <td>54</td>\n",
              "    </tr>\n",
              "    <tr>\n",
              "      <th>67</th>\n",
              "      <td>133</td>\n",
              "      <td>Myanmar</td>\n",
              "      <td>4.3080</td>\n",
              "      <td>8.680482</td>\n",
              "      <td>58.961712</td>\n",
              "      <td>0.895075</td>\n",
              "      <td>0.560664</td>\n",
              "      <td>0.645124</td>\n",
              "      <td>2020</td>\n",
              "      <td>MM</td>\n",
              "      <td>71</td>\n",
              "    </tr>\n",
              "    <tr>\n",
              "      <th>70</th>\n",
              "      <td>138</td>\n",
              "      <td>Egypt</td>\n",
              "      <td>4.1514</td>\n",
              "      <td>9.316542</td>\n",
              "      <td>61.780151</td>\n",
              "      <td>0.708354</td>\n",
              "      <td>-0.196878</td>\n",
              "      <td>0.787727</td>\n",
              "      <td>2020</td>\n",
              "      <td>EG</td>\n",
              "      <td>59</td>\n",
              "    </tr>\n",
              "    <tr>\n",
              "      <th>65</th>\n",
              "      <td>144</td>\n",
              "      <td>India</td>\n",
              "      <td>3.5733</td>\n",
              "      <td>8.849824</td>\n",
              "      <td>60.215187</td>\n",
              "      <td>0.881445</td>\n",
              "      <td>0.057552</td>\n",
              "      <td>0.772043</td>\n",
              "      <td>2020</td>\n",
              "      <td>IN</td>\n",
              "      <td>58</td>\n",
              "    </tr>\n",
              "  </tbody>\n",
              "</table>\n",
              "<p>71 rows × 11 columns</p>\n",
              "</div>"
            ],
            "text/plain": [
              "    rank      country   score  gdp_per_capita  healthy_life_expectancy  freedom_of_choice  generosity  corruption_perceptions  year country_code  rank_women\n",
              "4      1      Finland  7.8087       10.639267                71.900825           0.949172   -0.059482                0.195445  2020           FI           6\n",
              "1      2      Denmark  7.6456       10.774001                72.402504           0.951444    0.066202                0.168489  2020           DK           1\n",
              "0      3  Switzerland  7.5599       10.979933                74.102448           0.921337    0.105911                0.303728  2020           CH           7\n",
              "2      5       Norway  7.4880       11.087804                73.200783           0.955750    0.134533                0.263218  2020           NO           4\n",
              "5      6  Netherlands  7.4489       10.812712                72.300919           0.908548    0.207612                0.364717  2020           NL           3\n",
              "..   ...          ...     ...             ...                      ...                ...         ...                     ...   ...          ...         ...\n",
              "61   128      Tunisia  4.3922        9.314973                66.897858           0.593362   -0.216414                0.867590  2020           TN          73\n",
              "68   130    Sri Lanka  4.3270        9.389970                67.200066           0.837634    0.081130                0.859002  2020           LK          54\n",
              "67   133      Myanmar  4.3080        8.680482                58.961712           0.895075    0.560664                0.645124  2020           MM          71\n",
              "70   138        Egypt  4.1514        9.316542                61.780151           0.708354   -0.196878                0.787727  2020           EG          59\n",
              "65   144        India  3.5733        8.849824                60.215187           0.881445    0.057552                0.772043  2020           IN          58\n",
              "\n",
              "[71 rows x 11 columns]"
            ]
          },
          "metadata": {
            "tags": []
          },
          "execution_count": 26
        }
      ]
    },
    {
      "cell_type": "code",
      "metadata": {
        "colab": {
          "base_uri": "https://localhost:8080/",
          "height": 339
        },
        "id": "LupBSAtVWNkA",
        "outputId": "1e575fac-6451-43b0-d460-226ca071197f"
      },
      "source": [
        "# Plot sampled countries\n",
        "women_df = whr_women[whr_women['country_code'].isin(latin_codes)].reset_index(drop=True)\n",
        "\n",
        "# Create a dictionary of dict[country code] = happiness score\n",
        "score_dict = pd.Series(women_df['score'].values,index=women_df['country_code'].str.lower()).to_dict()\n",
        "  \n",
        "# create a world map \n",
        "worldmap = World()\n",
        "  \n",
        "# set the title of the map \n",
        "print('The Sampled Countries')\n",
        "  \n",
        "# adding the countries \n",
        "worldmap.add('Happiness Score', score_dict) \n",
        "  \n",
        "# save into the file \n",
        "png_filename = 'sampled_countries.png'\n",
        "worldmap.render_to_png(png_filename) \n",
        "\n",
        "# Open the cropped image\n",
        "im = Image.open(png_filename) \n",
        "\n",
        "im.crop((305, 260, 410, 425)) # left, top, right, bottom # usan\n",
        "im.crop((425, 130, 540, 240)) # left, top, right, bottom # eu\n",
        "im.crop((200, 120, 780, 425)) # left, top, right, bottom # whole map"
      ],
      "execution_count": 27,
      "outputs": [
        {
          "output_type": "stream",
          "text": [
            "The Sampled Countries\n"
          ],
          "name": "stdout"
        },
        {
          "output_type": "execute_result",
          "data": {
            "image/png": "[encoded data removed]",
            "text/plain": [
              "<PIL.Image.Image image mode=RGB size=580x305 at 0x7FF57F6BA190>"
            ]
          },
          "metadata": {
            "tags": []
          },
          "execution_count": 27
        }
      ]
    },
    {
      "cell_type": "markdown",
      "metadata": {
        "id": "oiP0wMhCJJd1"
      },
      "source": [
        "# Examining Women's Equality in these Countries"
      ]
    },
    {
      "cell_type": "code",
      "metadata": {
        "id": "WdcqfPSIDAdG"
      },
      "source": [
        "# Helper Functions\n",
        "\n",
        "# List cols from 2016-2020 \n",
        "years = [f'{year} [YR{year}]' for year in range(2016,2020)]\n",
        "\n",
        "def cols_to_df(cols):\n",
        "\n",
        "  # Filter on relevant series\n",
        "  df = gender_df[gender_df['Series Name'].isin(cols)].copy(deep=True)\n",
        "\n",
        "  # Average yearly data and drop yearly data\n",
        "  df['mean_result'] = df[years].mean(axis=1)\n",
        "\n",
        "  # For every feature calculate the mean of each feature\n",
        "  for col in cols:\n",
        "    # Calculate \n",
        "    col_mean_result = df[df['Series Name'] == col]['mean_result']\n",
        "    avg_col_val = round(col_mean_result.mean(),3)\n",
        "    max_col_val = col_mean_result.max()\n",
        "    min_col_val = col_mean_result.min()\n",
        "    range_col_val = max_col_val - min_col_val\n",
        "    print(col, 'min', min_col_val, 'mean', avg_col_val, 'max', max_col_val)\n",
        "\n",
        "    # Set missing values to the median\n",
        "    df.loc[(df['Series Name'] == col) & (df['mean_result'].isnull()), 'mean_result'] = col_mean_result.median()\n",
        "    \n",
        "    # Normalize mean_result against ALL countries\n",
        "    df.loc[df['Series Name'] == col, 'mean_result'] -= min_col_val \n",
        "    df.loc[df['Series Name'] == col, 'mean_result'] /= range_col_val \n",
        "    \n",
        "  print()  \n",
        "\n",
        "  return df\n",
        "\n",
        "def invert_percent(row, col_name):\n",
        "  if row['Series Name'] == col_name: return 1 - row['mean_result']\n",
        "  return row['mean_result']\n",
        "\n",
        "def report_results(equality_df, country_codes, task):\n",
        "  # Combine Scores  \n",
        "  equality_scores = equality_df.groupby(by='country_code').mean().reset_index()\n",
        "\n",
        "  # Filter on given codes\n",
        "  women_df = whr_women[whr_women['country_code'].isin(country_codes)].reset_index(drop=True)\n",
        "\n",
        "  # Merge in rankings and scores to gender data \n",
        "  equality_scores_avg = pd.merge(equality_scores, women_df, on='country_code')\n",
        "\n",
        "  # Calculate Correlations\n",
        "  # whr_corr = equality_scores_avg['mean_result'].corr(equality_scores_avg['score'])\n",
        "  # usnews_corr = equality_scores_avg['mean_result'].corr(equality_scores_avg['rank_women']) * -1\n",
        "  # print(f'Correlation between WHR Score and Women\\'s {task} = {whr_corr}')\n",
        "  # print(f'Correlation between US News Rank and Women\\'s {task} = {usnews_corr}')\n",
        "\n",
        "  # p-value calculations\n",
        "  equality_scores_avg_clean = equality_scores_avg#.dropna()\n",
        "  whr_corr, whr_pval = stats.pearsonr(equality_scores_avg_clean['mean_result'], equality_scores_avg_clean['score'])\n",
        "  usnews_corr, usnews_pval = stats.spearmanr(equality_scores_avg_clean['mean_result'], equality_scores_avg_clean['rank_women'])\n",
        "  usnews_corr = usnews_corr * -1 # Since rank 1 is the highest\n",
        "  print(f'{round(whr_corr,4)} Correlation between WHR Score and Women\\'s {task}, w/ p-value of {whr_pval}')\n",
        "  print(f'{round(usnews_corr,4)} Correlation between US News Rank and Women\\'s {task}, w/ p-value of {usnews_pval}')\n",
        "\n",
        "  # Report Results\n",
        "  #print('From',len(equality_scores_avg),'countries')\n",
        "  print(equality_scores_avg_clean[['country','mean_result','score','rank_women']].sort_values('mean_result'))\n",
        "  \n",
        "\n",
        "# Code to do correlation by year\n",
        "# for year in [2016, 2017, 2018, 2019]:\n",
        "#   freedom_travel_scores_year = freedom_travel_scores[['country_code',f'{year} [YR{year}]']]\n",
        "#   freedom_travel_scores_year = pd.merge(freedom_travel_scores_year, whr_women[whr_women['year']==year], on='country_code')\n",
        "#   corr = freedom_travel_scores_year[f'{year} [YR{year}]'].corr(freedom_travel_scores_year['score'])\n",
        "#   print('WHR score to Travel correlation 2016-2019 =', corr)"
      ],
      "execution_count": 28,
      "outputs": []
    },
    {
      "cell_type": "markdown",
      "metadata": {
        "id": "4VXwn-_Q31pZ"
      },
      "source": [
        "### Freedom Equality"
      ]
    },
    {
      "cell_type": "code",
      "metadata": {
        "id": "3bS4TYQIuAio"
      },
      "source": [
        "travel_cols = [\n",
        "  'A woman can apply for a passport in the same way as a man (1=yes; 0=no)',\n",
        "  'A woman can travel outside her home in the same way as a man (1=yes; 0=no)',\n",
        "  'A woman can travel outside the country in the same way as a man (1=yes; 0=no)',\n",
        "  'A woman can choose where to live in the same way as a man (1=yes; 0=no)'\n",
        "]\n",
        "\n",
        "marriage_cols = [\n",
        "  #'Age at first marriage, female',\n",
        "  #'Age at first marriage, male'\n",
        "  'A woman can obtain a judgment of divorce in the same way as a man (1=yes; 0=no)',\n",
        "  'A woman has the same rights to remarry as a man (1=yes; 0=no)',\n",
        "  'There is no legal provision that requires a married woman to obey her husband (1=yes; 0=no)'\n",
        "]\n",
        "\n",
        "body_cols = [\n",
        "  'Contraceptive prevalence, any methods (% of women ages 15-49)',\n",
        "  'Contraceptive prevalence, modern methods (% of women ages 15-49)',\n",
        "  'A woman can obtain a judgment of divorce in the same way as a man (1=yes; 0=no)',\n",
        "  'A woman has the same rights to remarry as a man (1=yes; 0=no)',\n",
        "  'There is no legal provision that requires a married woman to obey her husband (1=yes; 0=no)'\n",
        "  \"Decision maker about a woman's own health care: mainly husband (% of women age 15-49)\",\n",
        "  #\"Decision maker about a woman's own health care: other (% of women age 15-49)\",\n",
        "  #\"Decision maker about a woman's own health care: someone else (% of women age 15-49)\",\n",
        "  #\"Decision maker about a woman's own health care: mainly wife (% of women age 15-49)\",\n",
        "  #\"Decision maker about a woman's own health care: wife and husband jointly (% of women age 15-49)\",\n",
        "]\n",
        "\n",
        "household_cols = [\n",
        "  'A woman can be head of household in the same way as a man (1=yes; 0=no)',\n",
        "  'Decision maker about major household purchases: mainly husband (% of women age 15-49)',\n",
        "  #'Decision maker about major household purchases: mainly wife (% of women age 15-49)',\n",
        "  #'Decision maker about major household purchases: other (% of women age 15-49)',\n",
        "  #'Decision maker about major household purchases: someone else (% of women age 15-49)',\n",
        "  'Decision maker about major household purchases: wife and husband jointly (% of women age 15-49)'\n",
        "]\n",
        "\n",
        "finance_cols = [\n",
        "  'A woman can open a bank account in the same way as a man (1=yes; 0=no)',\n",
        "  'A woman can register a business in the same way as a man (1=yes; 0=no)',\n",
        "  'A woman can sign a contract in the same way as a man (1=yes; 0=no)',\n",
        "  'Female and male surviving spouses have equal rights to inherit assets (1=yes; 0=no)',\n",
        "  'The law prohibits discrimination in access to credit based on gender (1=yes; 0=no)',\n",
        "  'Sons and daughters have equal rights to inherit assets from their parents (1=yes; 0=no)',\n",
        "  'Female and male surviving spouses have equal rights to inherit assets (1=yes; 0=no)'\n",
        "]\n",
        "\n",
        "freedom_cols = travel_cols + marriage_cols + body_cols + household_cols + finance_cols"
      ],
      "execution_count": 29,
      "outputs": []
    },
    {
      "cell_type": "code",
      "metadata": {
        "colab": {
          "base_uri": "https://localhost:8080/"
        },
        "id": "sxnnkQu-xUAR",
        "outputId": "263041cb-cbaf-48d7-8389-19f768437e89"
      },
      "source": [
        "# Overall Freedom to...\n",
        "task = \"Freedom Equality\"\n",
        "\n",
        "# Change columns into a usable DataFrame\n",
        "equality_df = cols_to_df(freedom_cols)\n",
        "\n",
        "# Pre Process\n",
        "equality_df['mean_result'] = equality_df.apply(lambda x: invert_percent(x, 'Decision maker about major household purchases: wife and husband jointly (% of women age 15-49)'), axis=1)\n",
        "equality_df['mean_result'] = equality_df.apply(lambda x: invert_percent(x, \"Decision maker about a woman's own health care: wife and husband jointly (% of women age 15-49)\"), axis=1)\n",
        "equality_df['mean_result'] = equality_df.apply(lambda x: invert_percent(x, \"Decision maker about a woman's own health care: mainly husband (% of women age 15-49)\"), axis=1)\n",
        "\n",
        "# Report Results\n",
        "report_results(equality_df, all_codes, task)"
      ],
      "execution_count": 30,
      "outputs": [
        {
          "output_type": "stream",
          "text": [
            "A woman can apply for a passport in the same way as a man (1=yes; 0=no) min 0.0 mean 0.795 max 1.0\n",
            "A woman can travel outside her home in the same way as a man (1=yes; 0=no) min 0.0 mean 0.911 max 1.0\n",
            "A woman can travel outside the country in the same way as a man (1=yes; 0=no) min 0.0 mean 0.948 max 1.0\n",
            "A woman can choose where to live in the same way as a man (1=yes; 0=no) min 0.0 mean 0.803 max 1.0\n",
            "A woman can obtain a judgment of divorce in the same way as a man (1=yes; 0=no) min 0.0 mean 0.746 max 1.0\n",
            "A woman has the same rights to remarry as a man (1=yes; 0=no) min 0.0 mean 0.619 max 1.0\n",
            "There is no legal provision that requires a married woman to obey her husband (1=yes; 0=no) min 0.0 mean 0.894 max 1.0\n",
            "Contraceptive prevalence, any methods (% of women ages 15-49) min 9.8 mean 47.777 max 84.5\n",
            "Contraceptive prevalence, modern methods (% of women ages 15-49) min 3.7 mean 41.337 max 80.5\n",
            "A woman can obtain a judgment of divorce in the same way as a man (1=yes; 0=no) min 0.0 mean 0.817 max 1.0\n",
            "A woman has the same rights to remarry as a man (1=yes; 0=no) min 0.0 mean 0.726 max 1.0\n",
            "There is no legal provision that requires a married woman to obey her husband (1=yes; 0=no)Decision maker about a woman's own health care: mainly husband (% of women age 15-49) min nan mean nan max nan\n",
            "A woman can be head of household in the same way as a man (1=yes; 0=no) min 0.0 mean 0.829 max 1.0\n",
            "Decision maker about major household purchases: mainly husband (% of women age 15-49) min 4.7 mean 29.448 max 76.9\n",
            "Decision maker about major household purchases: wife and husband jointly (% of women age 15-49) min 13.6 mean 49.292 max 80.3\n",
            "A woman can open a bank account in the same way as a man (1=yes; 0=no) min 0.0 mean 0.962 max 1.0\n",
            "A woman can register a business in the same way as a man (1=yes; 0=no) min 0.0 mean 0.962 max 1.0\n",
            "A woman can sign a contract in the same way as a man (1=yes; 0=no) min 0.0 mean 0.988 max 1.0\n",
            "Female and male surviving spouses have equal rights to inherit assets (1=yes; 0=no) min 0.0 mean 0.767 max 1.0\n",
            "The law prohibits discrimination in access to credit based on gender (1=yes; 0=no) min 0.0 mean 0.385 max 1.0\n",
            "Sons and daughters have equal rights to inherit assets from their parents (1=yes; 0=no) min 0.0 mean 0.772 max 1.0\n",
            "Female and male surviving spouses have equal rights to inherit assets (1=yes; 0=no) min 0.0 mean 0.833 max 1.0\n",
            "\n",
            "0.3078 Correlation between WHR Score and Women's Freedom Equality, w/ p-value of 0.009020688266471488\n",
            "0.5097 Correlation between US News Rank and Women's Freedom Equality, w/ p-value of 5.626901633615567e-06\n",
            "                 country  mean_result   score  rank_women\n",
            "34                Jordan     0.239010  4.6334          68\n",
            "0   United Arab Emirates     0.303838  6.7908          26\n",
            "59          Saudi Arabia     0.325197  6.4065          42\n",
            "21                 Egypt     0.373282  4.1514          59\n",
            "47              Malaysia     0.428838  5.3843          39\n",
            "..                   ...          ...     ...         ...\n",
            "54                Poland     0.873282  6.1863          21\n",
            "6                Bolivia     0.887826  5.7475          62\n",
            "3              Australia     0.902287  7.2228           9\n",
            "22                 Spain     0.909038  6.4009          17\n",
            "68         United States     0.911206  6.9396          15\n",
            "\n",
            "[71 rows x 4 columns]\n"
          ],
          "name": "stdout"
        }
      ]
    },
    {
      "cell_type": "markdown",
      "metadata": {
        "id": "PPQsX1ukDPLX"
      },
      "source": [
        "### Achievement Equality"
      ]
    },
    {
      "cell_type": "code",
      "metadata": {
        "id": "X-WP7LdpDQaY"
      },
      "source": [
        "# Education\n",
        "# 'Adjusted net enrollment rate, primary, male (% of primary school age children)',\n",
        "# 'Children out of school, primary, male',\n",
        "# \"Educational attainment, at least Bachelor's or equivalent, population 25+, male (%) (cumulative)\",\n",
        "# \"Educational attainment, at least Master's or equivalent, population 25+, male (%) (cumulative)\",\n",
        "# 'Educational attainment, Doctoral or equivalent, population 25+, male (%) (cumulative)',\n",
        "# 'Expected Years of School, Male',\n",
        "# 'Expected years of schooling, male',\n",
        "# 'Literacy rate, adult male (% of males ages 15 and above)',\n",
        "\n",
        "# Job Opportunity\n",
        "# 'Employment to population ratio, ages 15-24, male (%) (national estimate)',\n",
        "# 'Share of male business owners  (% of total business owners)',\n",
        "# 'Share of male directors (% of total directors)',\n",
        "\n",
        "# Property Ownership\n",
        "# 'Women who own a house alone (% of women age 15-49)',\n",
        "# 'Women who own a house jointly (% of women age 15-49)',\n",
        "# 'Women who own land alone (% of women age 15-49)',\n",
        "# 'Women who own land jointly (% of women age 15-49)',"
      ],
      "execution_count": 31,
      "outputs": []
    },
    {
      "cell_type": "code",
      "metadata": {
        "colab": {
          "base_uri": "https://localhost:8080/"
        },
        "id": "g0-qa-4ILQc7",
        "outputId": "984f9c2c-8629-4109-e976-689078ebd719"
      },
      "source": [
        "task = \"Achievement Equality\"\n",
        "equality_cols = [\n",
        "'Adjusted net enrollment rate, primary, female (% of primary school age children)',\n",
        "'Children out of school, primary, female',\n",
        "\"Educational attainment, at least Bachelor's or equivalent, population 25+, female (%) (cumulative)\",\n",
        "\"Educational attainment, at least Master's or equivalent, population 25+, female (%) (cumulative)\",\n",
        "'Educational attainment, Doctoral or equivalent, population 25+, female (%) (cumulative)',\n",
        "'Expected Years of School, Female',\n",
        "'Expected years of schooling, female',\n",
        "'Literacy rate, adult female (% of females ages 15 and above)',\n",
        "\n",
        "'A woman can get a job in the same way as a man (1=yes; 0=no)',\n",
        "'Employment to population ratio, ages 15-24, female (%) (national estimate)',\n",
        "'Law prohibits discrimination in employment based on gender (1=yes; 0=no)',\n",
        "'Law mandates equal remuneration for females and males for work of equal value (1=yes; 0=no)',\n",
        "'The mandatory retirement age for men and women are equal (1=yes; 0=no)',\n",
        "'Share of female business owners (% of total business owners)',\n",
        "'Share of female directors (% of total directors)'\n",
        "'Proportion of seats held by women in national parliaments (%)',\n",
        "\n",
        "'Women who do not own a house (% of women age 15-49)',\n",
        "'Women who do not own land (% of women age 15-49)',\n",
        "'Women who own a house both alone and jointly (% of women age 15-49)',\n",
        "'Women who own land both alone and jointly (% of women age 15-49)',\n",
        "]\n",
        "\n",
        "# Change columns into a usable DataFrame\n",
        "equality_df = cols_to_df(equality_cols)\n",
        "\n",
        "# Pre Process\n",
        "equality_df['mean_result'] = equality_df.apply(lambda x: invert_percent(x, \"Children out of school, primary, female\"), axis=1)\n",
        "equality_df['mean_result'] = equality_df.apply(lambda x: invert_percent(x, 'Women who do not own a house (% of women age 15-49)'), axis=1)\n",
        "equality_df['mean_result'] = equality_df.apply(lambda x: invert_percent(x, 'Women who do not own land (% of women age 15-49)'), axis=1)\n",
        "\n",
        "# Report Results\n",
        "report_results(equality_df, all_codes, task)"
      ],
      "execution_count": 32,
      "outputs": [
        {
          "output_type": "stream",
          "text": [
            "Adjusted net enrollment rate, primary, female (% of primary school age children) min 44.71462 mean 88.767 max 99.65002\n",
            "Children out of school, primary, female min 62.0 mean 2438299.912 max 31175000.0\n",
            "Educational attainment, at least Bachelor's or equivalent, population 25+, female (%) (cumulative) min 0.469980001449585 mean 19.397 max 44.46086502075195\n",
            "Educational attainment, at least Master's or equivalent, population 25+, female (%) (cumulative) min 0.0452900007367134 mean 6.424 max 28.343870162963903\n",
            "Educational attainment, Doctoral or equivalent, population 25+, female (%) (cumulative) min 0.0 mean 0.46 max 2.61791503429413\n",
            "Expected Years of School, Female min 3.73311891555786 mean 11.272 max 13.9203205108643\n",
            "Expected years of schooling, female min 5.640860080718995 mean 14.085 max 22.221206665039066\n",
            "Literacy rate, adult female (% of females ages 15 and above) min 13.9552297592163 mean 79.286 max 99.98213958740234\n",
            "A woman can get a job in the same way as a man (1=yes; 0=no) min 0.0 mean 0.888 max 1.0\n",
            "Employment to population ratio, ages 15-24, female (%) (national estimate) min 3.07999992370605 mean 27.628 max 76.8150978088379\n",
            "Law prohibits discrimination in employment based on gender (1=yes; 0=no) min 0.0 mean 0.794 max 1.0\n",
            "Law mandates equal remuneration for females and males for work of equal value (1=yes; 0=no) min 0.0 mean 0.439 max 1.0\n",
            "The mandatory retirement age for men and women are equal (1=yes; 0=no) min 0.0 mean 0.917 max 1.0\n",
            "Share of female business owners (% of total business owners) min 1.5842562419297765 mean 21.946 max 39.2794096488148\n",
            "Share of female directors (% of total directors)Proportion of seats held by women in national parliaments (%) min nan mean nan max nan\n",
            "Women who do not own a house (% of women age 15-49) min 13.4 mean 65.916 max 96.7\n",
            "Women who do not own land (% of women age 15-49) min 29.6 mean 72.35 max 97.9\n",
            "Women who own a house both alone and jointly (% of women age 15-49) min 0.1 mean 4.678 max 14.9\n",
            "Women who own land both alone and jointly (% of women age 15-49) min 0.0 mean 3.17 max 14.6\n",
            "\n",
            "0.5887 Correlation between WHR Score and Women's Achievement Equality, w/ p-value of 6.692968943468075e-08\n",
            "0.6183 Correlation between US News Rank and Women's Achievement Equality, w/ p-value of 9.162246190316662e-09\n",
            "                 country  mean_result   score  rank_women\n",
            "34                Jordan     0.353688  4.6334          68\n",
            "21                 Egypt     0.433145  4.1514          59\n",
            "40             Sri Lanka     0.451328  4.3270          54\n",
            "28             Guatemala     0.461522  6.3989          65\n",
            "0   United Arab Emirates     0.468901  6.7908          26\n",
            "..                   ...          ...     ...         ...\n",
            "25        United Kingdom     0.682216  7.1645          13\n",
            "10           Switzerland     0.685735  7.5599           7\n",
            "43                Latvia     0.689959  5.9500          33\n",
            "3              Australia     0.693110  7.2228           9\n",
            "62              Slovenia     0.702080  6.3634          35\n",
            "\n",
            "[71 rows x 4 columns]\n"
          ],
          "name": "stdout"
        }
      ]
    },
    {
      "cell_type": "markdown",
      "metadata": {
        "id": "CzXf1ntIDbgU"
      },
      "source": [
        "### Health Equality"
      ]
    },
    {
      "cell_type": "code",
      "metadata": {
        "id": "NV26kYx2DcZg"
      },
      "source": [
        "# Access to Medicine\n",
        "# 'Access to anti-retroviral drugs, male (%)',\n",
        "\n",
        "# Equality of Health Outcomes\n",
        "# 'Mortality from CVD, cancer, diabetes or CRD between exact ages 30 and 70, male (%)',\n",
        "# 'Mortality rate attributed to household and ambient air pollution, age-standardized, female (per 100,000 female population)',\n",
        "# 'Mortality rate attributed to household and ambient air pollution, age-standardized, male (per 100,000 male population)',\n",
        "# 'Mortality rate attributed to unintentional poisoning, female (per 100,000 female population)',\n",
        "# 'Mortality rate attributed to unintentional poisoning, male (per 100,000 male population)',\n",
        "\n",
        "# Drug Use and Mental Health\n",
        "# 'Smoking prevalence, males (% of adults)',\n",
        "# 'Suicide mortality rate, male (per 100,000 male population)',\n",
        "\n",
        "# Equality of Health Condition\n",
        "# 'Prevalence of HIV, male (% ages 15-24)',\n",
        "# 'Prevalence of obesity, female (% of female population ages 18+)',\n",
        "# 'Prevalence of obesity, male (% of male population ages 18+)',\n",
        "# 'Prevalence of overweight, female (% of female adults)',\n",
        "# 'Prevalence of overweight, male (% of male adults)',\n",
        "# 'Prevalence of overweight, weight for height, female (% of children under 5)',\n",
        "# 'Prevalence of overweight, weight for height, male (% of children under 5)',\n",
        "# 'Prevalence of severe wasting, weight for height, male (% of children under 5)',\n",
        "# 'Prevalence of stunting, height for age, female (% of children under 5)',\n",
        "# 'Prevalence of stunting, height for age, male (% of children under 5)',\n",
        "# 'Prevalence of underweight, weight for age, female (% of children under 5)',\n",
        "# 'Prevalence of underweight, weight for age, male (% of children under 5)',\n",
        "# 'Prevalence of wasting, weight for height, male (% of children under 5)',"
      ],
      "execution_count": 33,
      "outputs": []
    },
    {
      "cell_type": "code",
      "metadata": {
        "colab": {
          "base_uri": "https://localhost:8080/"
        },
        "id": "s4NBM9JrIyeT",
        "outputId": "51de65d3-adc3-4812-99cc-d3ae38d38a7d"
      },
      "source": [
        "task = \"Health Equality\"\n",
        "equality_cols = [\n",
        "'Access to anti-retroviral drugs, female (%)',\n",
        "'Contraceptive prevalence, any methods (% of women ages 15-49)',\n",
        "'Contraceptive prevalence, modern methods (% of women ages 15-49)'\n",
        "\n",
        "'Births attended by skilled health staff (% of total)',\n",
        "'Pregnant women receiving prenatal care (%)',\n",
        "'Mortality from CVD, cancer, diabetes or CRD between exact ages 30 and 70, female (%)',\n",
        "\n",
        "'Smoking prevalence, females (% of adults)',\n",
        "'Suicide mortality rate, female (per 100,000 female population)',\n",
        "\n",
        "\"Women's share of population ages 15+ living with HIV (%)\",\n",
        "'Prevalence of anemia among women of reproductive age (% of women ages 15-49)',\n",
        "'Prevalence of HIV, female (% ages 15-24)',\n",
        "'Prevalence of severe wasting, weight for height, female (% of children under 5)',\n",
        "'Prevalence of wasting, weight for height, female (% of children under 5)',\n",
        "]\n",
        "\n",
        "# Change columns into a usable DataFrame\n",
        "equality_df = cols_to_df(equality_cols)\n",
        "\n",
        "# Pre Process\n",
        "equality_df['mean_result'] = equality_df.apply(lambda x: invert_percent(x, \"Suicide mortality rate, female (per 100,000 female population)\"), axis=1)\n",
        "equality_df['mean_result'] = equality_df.apply(lambda x: invert_percent(x, \"Women's share of population ages 15+ living with HIV (%)\"), axis=1)\n",
        "equality_df['mean_result'] = equality_df.apply(lambda x: invert_percent(x, \"Prevalence of anemia among women of reproductive age (% of women ages 15-49)\"), axis=1)\n",
        "equality_df['mean_result'] = equality_df.apply(lambda x: invert_percent(x, \"Prevalence of HIV, female (% ages 15-24)\"), axis=1)\n",
        "equality_df['mean_result'] = equality_df.apply(lambda x: invert_percent(x, 'Prevalence of severe wasting, weight for height, female (% of children under 5)'), axis=1)\n",
        "equality_df['mean_result'] = equality_df.apply(lambda x: invert_percent(x, 'Prevalence of stunting, height for age, female (% of children under 5)'), axis=1)\n",
        "equality_df['mean_result'] = equality_df.apply(lambda x: invert_percent(x, 'Prevalence of underweight, weight for age, female (% of children under 5)'), axis=1)\n",
        "equality_df['mean_result'] = equality_df.apply(lambda x: invert_percent(x, 'Prevalence of wasting, weight for height, female (% of children under 5)'), axis=1)\n",
        "equality_df['mean_result'] = equality_df.apply(lambda x: invert_percent(x, 'Mortality from CVD, cancer, diabetes or CRD between exact ages 30 and 70, female (%)'), axis=1)\n",
        "equality_df['mean_result'] = equality_df.apply(lambda x: invert_percent(x, 'Smoking prevalence, females (% of adults)'), axis=1)\n",
        "\n",
        "# Report Results\n",
        "report_results(equality_df, all_codes, task)"
      ],
      "execution_count": 34,
      "outputs": [
        {
          "output_type": "stream",
          "text": [
            "Access to anti-retroviral drugs, female (%) min 6.75 mean 56.3 max 90.75\n",
            "Contraceptive prevalence, any methods (% of women ages 15-49) min 9.8 mean 47.777 max 84.5\n",
            "Contraceptive prevalence, modern methods (% of women ages 15-49)Births attended by skilled health staff (% of total) min nan mean nan max nan\n",
            "Pregnant women receiving prenatal care (%) min 51.6 mean 88.776 max 99.6\n",
            "Mortality from CVD, cancer, diabetes or CRD between exact ages 30 and 70, female (%) min 4.7 mean 16.14 max 32.6\n",
            "Smoking prevalence, females (% of adults) min 0.1 mean 10.236 max 44.0\n",
            "Suicide mortality rate, female (per 100,000 female population) min 0.5 mean 5.09 max 24.4\n",
            "Women's share of population ages 15+ living with HIV (%) min 6.0 mean 43.872 max 72.875\n",
            "Prevalence of anemia among women of reproductive age (% of women ages 15-49) min 9.1 mean 30.005 max 69.6\n",
            "Prevalence of HIV, female (% ages 15-24) min 0.1 mean 1.043 max 14.05\n",
            "Prevalence of severe wasting, weight for height, female (% of children under 5) min 0.06666666666666667 mean 1.138 max 3.05\n",
            "Prevalence of wasting, weight for height, female (% of children under 5) min 0.43333333333333335 mean 4.42 max 9.9\n",
            "\n",
            "0.2536 Correlation between WHR Score and Women's Health Equality, w/ p-value of 0.03287092054918953\n",
            "0.0119 Correlation between US News Rank and Women's Health Equality, w/ p-value of 0.9215080811373544\n",
            "         country  mean_result   score  rank_women\n",
            "32         India     0.604197  3.5733          58\n",
            "26         Ghana     0.605936  5.1480          66\n",
            "45       Myanmar     0.617532  4.3080          71\n",
            "70  South Africa     0.632591  4.8141          43\n",
            "29       Croatia     0.645739  5.5047          28\n",
            "..           ...          ...     ...         ...\n",
            "61     Singapore     0.783860  6.3771          20\n",
            "22         Spain     0.789046  6.4009          17\n",
            "13      Colombia     0.789369  6.1634          57\n",
            "3      Australia     0.816984  7.2228           9\n",
            "52          Peru     0.872051  5.7968          52\n",
            "\n",
            "[71 rows x 4 columns]\n"
          ],
          "name": "stdout"
        }
      ]
    },
    {
      "cell_type": "markdown",
      "metadata": {
        "id": "AmK1Er0A34xj"
      },
      "source": [
        "### Cultural Equality"
      ]
    },
    {
      "cell_type": "code",
      "metadata": {
        "id": "YIVcADyIKHFq"
      },
      "source": [
        "# Abuse of Women\n",
        "# 'Proportion of women who have sought help to stop physical or sexual violence (% of women age 15-49)',\n",
        "\n",
        "# Matriarchial\n",
        "# 'Female headed households (% of households with a female head)',\n",
        "\n",
        "# Disparity as children\n",
        "# 'Children in employment, male (% of male children ages 7-14)',\n",
        "# 'Children out of school, primary, male'"
      ],
      "execution_count": 35,
      "outputs": []
    },
    {
      "cell_type": "code",
      "metadata": {
        "colab": {
          "base_uri": "https://localhost:8080/"
        },
        "id": "gK_K_5hCSJd5",
        "outputId": "195ed27f-fcad-4818-a8c1-ac009339d2b3"
      },
      "source": [
        "# Freedom to Cultural Independence\n",
        "task = \"Cultural Equality\"\n",
        "equality_cols = [\n",
        "'Criminal penalties or civil remedies exist for sexual harassment in employment (1=yes; 0=no)',\n",
        "'Female genital mutilation prevalence (%)',\n",
        "'There is legislation specifically addressing domestic violence (1=yes; 0=no)',\n",
        "'There is legislation on sexual harassment in employment (1=yes; 0=no)',\n",
        "'Proportion of women subjected to physical and/or sexual violence in the last 12 months (% of women age 15-49)',\n",
        "'Proportion of women who have ever experienced any form of sexual violence (% of women age 15-49)',\n",
        "'Proportion of women who have ever experienced intimate partner violence (% of women age 15-49)',\n",
        "\n",
        "'Proportion of time spent on unpaid domestic and care work, female (% of 24 hour day)',\n",
        "'Proportion of time spent on unpaid domestic and care work, male (% of 24 hour day)',\n",
        "\n",
        "'Children in employment, female (% of female children ages 7-14)',\n",
        "'Children out of school, primary, female',\n",
        "]\n",
        "\n",
        "# Change columns into a usable DataFrame\n",
        "equality_df = cols_to_df(equality_cols)\n",
        "\n",
        "# Pre Process\n",
        "equality_df['mean_result'] = equality_df.apply(lambda x: invert_percent(x, \"Female genital mutilation prevalence (%)\"), axis=1)\n",
        "equality_df['mean_result'] = equality_df.apply(lambda x: invert_percent(x, \"Proportion of women subjected to physical and/or sexual violence in the last 12 months (% of women age 15-49)\"), axis=1)\n",
        "equality_df['mean_result'] = equality_df.apply(lambda x: invert_percent(x, \"Proportion of women who have ever experienced any form of sexual violence (% of women age 15-49)\"), axis=1)\n",
        "equality_df['mean_result'] = equality_df.apply(lambda x: invert_percent(x, \"Proportion of women who have ever experienced intimate partner violence (% of women age 15-49)\"), axis=1)\n",
        "equality_df['mean_result'] = equality_df.apply(lambda x: invert_percent(x, \"Children in employment, female (% of female children ages 7-14)\"), axis=1)\n",
        "equality_df['mean_result'] = equality_df.apply(lambda x: invert_percent(x, 'Proportion of time spent on unpaid domestic and care work, male (% of 24 hour day)'), axis=1)\n",
        "equality_df['mean_result'] = equality_df.apply(lambda x: invert_percent(x, 'Children out of school, primary, female'), axis=1)\n",
        "\n",
        "# Report Results\n",
        "report_results(equality_df, g20_codes, task)"
      ],
      "execution_count": 36,
      "outputs": [
        {
          "output_type": "stream",
          "text": [
            "Criminal penalties or civil remedies exist for sexual harassment in employment (1=yes; 0=no) min 0.0 mean 0.671 max 1.0\n",
            "Female genital mutilation prevalence (%) min 0.3 mean 40.303 max 95.65\n",
            "There is legislation specifically addressing domestic violence (1=yes; 0=no) min 0.0 mean 0.787 max 1.0\n",
            "There is legislation on sexual harassment in employment (1=yes; 0=no) min 0.0 mean 0.712 max 1.0\n",
            "Proportion of women subjected to physical and/or sexual violence in the last 12 months (% of women age 15-49) min 3.5 mean 17.508 max 34.6\n",
            "Proportion of women who have ever experienced any form of sexual violence (% of women age 15-49) min 0.9 mean 10.49 max 28.2\n",
            "Proportion of women who have ever experienced intimate partner violence (% of women age 15-49) min 8.1 mean 28.472 max 57.1\n",
            "Proportion of time spent on unpaid domestic and care work, female (% of 24 hour day) min 14.5250208 mean 16.329 max 22.1457084\n",
            "Proportion of time spent on unpaid domestic and care work, male (% of 24 hour day) min 3.125 mean 7.307 max 10.8041667\n",
            "Children in employment, female (% of female children ages 7-14) min 0.4 mean 0.515 max 0.63\n",
            "Children out of school, primary, female min 62.0 mean 2438299.912 max 31175000.0\n",
            "\n",
            "0.1848 Correlation between WHR Score and Women's Cultural Equality, w/ p-value of 0.4628122457718842\n",
            "0.2416 Correlation between US News Rank and Women's Cultural Equality, w/ p-value of 0.3340991873786976\n",
            "           country  mean_result   score  rank_women\n",
            "13          Russia     0.421591  5.5460          31\n",
            "8        Indonesia     0.509390  5.2856          53\n",
            "0        Argentina     0.603279  5.9747          36\n",
            "14    Saudi Arabia     0.603307  6.4065          42\n",
            "3           Canada     0.673070  7.2321           5\n",
            "9            India     0.677607  3.5733          58\n",
            "16   United States     0.686469  6.9396          15\n",
            "15          Turkey     0.693905  5.1318          41\n",
            "4            China     0.694189  5.1239          22\n",
            "2           Brazil     0.694189  6.3756          32\n",
            "10           Italy     0.694227  6.3874          16\n",
            "11     South Korea     0.694258  5.8724          25\n",
            "7   United Kingdom     0.694295  7.1645          13\n",
            "1        Australia     0.694324  7.2228           9\n",
            "5          Germany     0.694329  7.0758          11\n",
            "6           France     0.694335  6.6638          14\n",
            "12          Mexico     0.709389  6.4650          51\n",
            "17    South Africa     0.723506  4.8141          43\n"
          ],
          "name": "stdout"
        }
      ]
    }
  ]
}